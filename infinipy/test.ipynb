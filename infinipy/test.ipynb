{
 "cells": [
  {
   "cell_type": "code",
   "execution_count": 1,
   "metadata": {},
   "outputs": [],
   "source": [
    "from stateblock import StateBlock\n",
    "from statement import Statement, CompositeStatement, bigger_than, equals_to\n"
   ]
  },
  {
   "cell_type": "code",
   "execution_count": 6,
   "metadata": {},
   "outputs": [],
   "source": [
    "# Example D&D inspired StateBlock instances\n",
    "warrior = StateBlock(\n",
    "    id=\"1\", owner_id=\"player1\", name=\"Warrior\", position=(0, 0, 0), reach=1, hitpoints=100, \n",
    "    size=\"medium\", blocks_move=True, blocks_los=False, can_store=False, \n",
    "    can_be_stored=False, can_act=True, can_move=True, can_be_moved=False\n",
    ")\n",
    "\n",
    "dragon = StateBlock(\n",
    "    id=\"2\", owner_id=\"npc1\", name=\"Dragon\", position=(10, 10, 0), reach=3, hitpoints=300,\n",
    "    size=\"very large\", blocks_move=True, blocks_los=True, can_store=True, \n",
    "    can_be_stored=False, can_act=True, can_move=True, can_be_moved=True\n",
    ")\n",
    "\n",
    "treasure_chest = StateBlock(\n",
    "    id=\"3\", owner_id=\"npc2\", name=\"Treasure Chest\", position=(5, 5, 0), reach=0, hitpoints=50,\n",
    "    size=\"small\", blocks_move=False, blocks_los=False, can_store=True, \n",
    "    can_be_stored=True, can_act=False, can_move=False, can_be_moved=True\n",
    ")"
   ]
  },
  {
   "cell_type": "code",
   "execution_count": 7,
   "metadata": {},
   "outputs": [],
   "source": [
    "# Creating conditions\n",
    "high_hitpoints = bigger_than(150)\n",
    "is_large = equals_to(\"large\")\n",
    "can_be_moved_condition = equals_to(True)\n",
    "\n",
    "# Composite condition example\n",
    "# Checking if an entity has high hitpoints and can be moved\n",
    "high_hp_and_movable = CompositeStatement([\n",
    "    (high_hitpoints, \"hitpoints\", 'AND'), \n",
    "    (can_be_moved_condition, \"can_be_moved\", 'AND')\n",
    "])"
   ]
  },
  {
   "cell_type": "code",
   "execution_count": 8,
   "metadata": {},
   "outputs": [
    {
     "name": "stdout",
     "output_type": "stream",
     "text": [
      "Warrior has high hitpoints: False\n",
      "Dragon is large: False\n",
      "Treasure chest can be moved: True\n"
     ]
    }
   ],
   "source": [
    "# Applying conditions to StateBlock instances\n",
    "print(\"Warrior has high hitpoints:\", high_hitpoints.apply(warrior, \"hitpoints\"))\n",
    "print(\"Dragon is large:\", is_large.apply(dragon, \"size\"))\n",
    "print(\"Treasure chest can be moved:\", can_be_moved_condition.apply(treasure_chest, \"can_be_moved\"))\n",
    "# Applying the composite condition to the dragon StateBlock\n",
    "print(\"Dragon has high hitpoints and can be moved:\", high_hp_and_movable(dragon))"
   ]
  }
 ],
 "metadata": {
  "kernelspec": {
   "display_name": "Python 3",
   "language": "python",
   "name": "python3"
  },
  "language_info": {
   "codemirror_mode": {
    "name": "ipython",
    "version": 3
   },
   "file_extension": ".py",
   "mimetype": "text/x-python",
   "name": "python",
   "nbconvert_exporter": "python",
   "pygments_lexer": "ipython3",
   "version": "3.10.6"
  }
 },
 "nbformat": 4,
 "nbformat_minor": 2
}

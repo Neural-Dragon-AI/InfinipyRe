{
 "cells": [
  {
   "cell_type": "code",
   "execution_count": 1,
   "metadata": {},
   "outputs": [],
   "source": [
    "from infinipy.stateblock import StateBlock\n",
    "import uuid\n",
    "\n",
    "from infinipy.statement import Statement,CompositeStatement\n",
    "from infinipy.transformer import Transformer,CompositeTransformer\n",
    "from infinipy.affordance import Affordance\n",
    "from dataclasses import dataclass, field\n",
    "from typing import List, Optional, Dict, Any, Union, Tuple"
   ]
  },
  {
   "cell_type": "code",
   "execution_count": 2,
   "metadata": {},
   "outputs": [],
   "source": [
    "#we define multiple entities we avoid the spatial component for now\n",
    "# character \n",
    "# door\n",
    "# key\n",
    "\n",
    "@dataclass\n",
    "class Door(StateBlock):\n",
    "    is_open: bool = False  # Attribute to indicate if the door is open\n",
    "    is_locked: bool = False  # Attribute to indicate if the door is locked\n",
    "    def __init__(self, key_id: str,is_open:bool,is_locked:bool, *args, **kwargs):\n",
    "        super().__init__(*args, **kwargs)\n",
    "        self.key_id = key_id  # Identifier of the key that can open the door\n",
    "        self.is_open = is_open\n",
    "        self.is_locked = is_locked\n",
    "\n",
    "    def __post_init__(self):\n",
    "        super().__post_init__()  # Call the post-init of StateBlock\n",
    "        # Additional initialization can be added here if needed\n",
    "key = StateBlock(\n",
    "    id=str(uuid.uuid4()),\n",
    "    owner_id=\"key_owner\",  # Identifier of the key's owner or location\n",
    "    name=\"Key\",\n",
    "    blocks_move=False,  # A key doesn't block movement\n",
    "    blocks_los=False,  # A key doesn't block line of sight\n",
    "    can_store=True,\n",
    "    can_be_stored=False,\n",
    "    can_act=True,\n",
    "    can_move=False,\n",
    "    can_be_moved=True,\n",
    "    position=(0, 0, 0),  # Position of the key in the environment\n",
    ")\n",
    "\n",
    "door = Door(\n",
    "    id=str(uuid.uuid4()),\n",
    "    owner_id=\"door_owner\",  # Identifier of the door's owner or location\n",
    "    name=\"Door\",\n",
    "    blocks_move=True,  # A closed door blocks movement\n",
    "    blocks_los=False,  # A door doesn't generally block line of sight\n",
    "    can_store=False,\n",
    "    can_be_stored=False,\n",
    "    can_act=False,\n",
    "    can_move=False,\n",
    "    can_be_moved=False,\n",
    "    position=(0, 0, 0),  # Position of the door in the environment\n",
    "    is_open=False,  # Custom attribute indicating if the door is open\n",
    "    is_locked=True,  # Custom attribute indicating if the door is locked\n",
    "    key_id=key.id,  # Custom attribute indicating the key that can open the door\n",
    ")\n",
    "\n",
    "character = StateBlock(\n",
    "    id=str(uuid.uuid4()),\n",
    "    owner_id=\"character_owner\",  # Identifier of the character's owner or location\n",
    "    name=\"Character\",\n",
    "    blocks_move=True,  # A character blocks movement\n",
    "    blocks_los=True,  # A character blocks line of sight\n",
    "    can_store=True,\n",
    "    can_be_stored=False,\n",
    "    can_act=True,\n",
    "    can_move=True,\n",
    "    can_be_moved=False,\n",
    "    position=(0, 0, 0),  # Position of the character in the environment\n",
    ")\n",
    "\n"
   ]
  },
  {
   "cell_type": "code",
   "execution_count": 3,
   "metadata": {},
   "outputs": [],
   "source": [
    "#boolean conditions of the entities \n",
    "\n",
    "def is_open_condition(door: StateBlock):\n",
    "    return door.is_open\n",
    "def is_locked_condition(door: StateBlock):\n",
    "    return door.is_locked\n",
    "\n",
    "def has_key_condition(character: StateBlock):\n",
    "    key_id = key.id\n",
    "    for item in character.inventory:\n",
    "        if item.id == key_id:\n",
    "            return True\n",
    "    return False\n",
    "    \n",
    "\n",
    "def is_pickable(key: StateBlock):\n",
    "    return key.can_be_moved\n",
    "\n",
    "def can_pick(chararacter:StateBlock):\n",
    "    return chararacter.can_store\n",
    "\n",
    "def has_inventory_space(character: StateBlock):\n",
    "    return len(character.inventory) < character.inventory_size\n"
   ]
  },
  {
   "cell_type": "code",
   "execution_count": 4,
   "metadata": {},
   "outputs": [],
   "source": [
    "#statements corresponding\n",
    "\n",
    "statements = {\n",
    "    \"IsOpen\": Statement(\n",
    "    name=\"IsOpen\",\n",
    "    description=\"is open\",\n",
    "    callable=is_open_condition,\n",
    "    usage=\"target\"\n",
    "    ),\n",
    "    \"IsLocked\": Statement(\n",
    "    name=\"IsLocked\",\n",
    "    description=\"is locked\",\n",
    "    callable=is_locked_condition,\n",
    "    usage=\"target\"),\n",
    "    \"HasKey\": Statement(\n",
    "    name=\"HasKey\",\n",
    "    description=\"has key\",\n",
    "    callable=has_key_condition,\n",
    "    usage=\"source\"),\n",
    "    \"IsPickable\": Statement(\n",
    "    name=\"IsPickable\",\n",
    "    description=\"is pickable\",\n",
    "    callable=is_pickable,\n",
    "    usage=\"target\"),\n",
    "    \"CanPick\": Statement(\n",
    "    name=\"CanPick\",\n",
    "    description=\"can pick\",\n",
    "    callable=can_pick,\n",
    "    usage=\"source\"),\n",
    "    \"HasInventorySpace\": Statement(\n",
    "    name=\"HasInventorySpace\",\n",
    "    description=\"has inventory space\",\n",
    "    callable=has_inventory_space,\n",
    "    usage=\"source\"),\n",
    "}"
   ]
  },
  {
   "cell_type": "code",
   "execution_count": 5,
   "metadata": {},
   "outputs": [],
   "source": [
    "from infinipy.actions import Action"
   ]
  },
  {
   "cell_type": "code",
   "execution_count": 6,
   "metadata": {},
   "outputs": [],
   "source": [
    "closed_locked_door = CompositeStatement([(statements[\"IsOpen\"],False), (statements[\"IsLocked\"],True)])\n",
    "open_unlocked_door = CompositeStatement([(statements[\"IsOpen\"],True), (statements[\"IsLocked\"],False)])\n",
    "closed_unlocked_door = CompositeStatement([(statements[\"IsOpen\"],False), (statements[\"IsLocked\"],False)])\n",
    "open_locked_door = CompositeStatement([(statements[\"IsOpen\"],True), (statements[\"IsLocked\"],True)])"
   ]
  },
  {
   "cell_type": "code",
   "execution_count": 7,
   "metadata": {},
   "outputs": [],
   "source": [
    "cleaned = open_unlocked_door.remove_intersection(closed_unlocked_door)"
   ]
  },
  {
   "cell_type": "code",
   "execution_count": 8,
   "metadata": {},
   "outputs": [
    {
     "name": "stdout",
     "output_type": "stream",
     "text": [
      "IsLocked_target False\n",
      "IsOpen_target False\n"
     ]
    }
   ],
   "source": [
    "for s in closed_unlocked_door.substatements:\n",
    "    print(s[0].name,s[1])"
   ]
  },
  {
   "cell_type": "code",
   "execution_count": 9,
   "metadata": {},
   "outputs": [
    {
     "name": "stdout",
     "output_type": "stream",
     "text": [
      "IsLocked_target False\n",
      "IsOpen_target True\n"
     ]
    }
   ],
   "source": [
    "for s in open_unlocked_door.substatements:\n",
    "    print(s[0].name,s[1])"
   ]
  },
  {
   "cell_type": "code",
   "execution_count": 10,
   "metadata": {},
   "outputs": [
    {
     "name": "stdout",
     "output_type": "stream",
     "text": [
      "IsOpen_target True\n"
     ]
    }
   ],
   "source": [
    "for s in cleaned.substatements:\n",
    "    print(s[0].name,s[1])"
   ]
  },
  {
   "cell_type": "code",
   "execution_count": 11,
   "metadata": {},
   "outputs": [
    {
     "data": {
      "text/plain": [
       "<infinipy.statement.CompositeStatement at 0x27906a52080>"
      ]
     },
     "execution_count": 11,
     "metadata": {},
     "output_type": "execute_result"
    }
   ],
   "source": [
    "CompositeStatement.from_composite_statements([closed_unlocked_door])"
   ]
  },
  {
   "cell_type": "code",
   "execution_count": 12,
   "metadata": {},
   "outputs": [],
   "source": [
    "open_door_action = Action(name= \"character_open_door\",\n",
    "                          prerequisites= [closed_unlocked_door],\n",
    "                          consequences= [CompositeStatement([(statements[\"IsOpen\"],True)])],\n",
    "                          source_block= character,\n",
    "                          target_block= door)\n",
    "\n",
    "close_door_action = Action(name= \"character_close_door\",\n",
    "                            prerequisites= [open_unlocked_door],\n",
    "                            consequences= [CompositeStatement([(statements[\"IsOpen\"],False)])],\n",
    "                            source_block= character,\n",
    "                            target_block= door)\n",
    "\n",
    "lock_door_action = Action(name= \"character_lock_door\",\n",
    "                            prerequisites= [CompositeStatement([(statements[\"IsLocked\"],False)]),\n",
    "                                            CompositeStatement([(statements[\"HasKey\"],True)])],\n",
    "                            consequences= [CompositeStatement([(statements[\"IsLocked\"],True)]),],\n",
    "                            source_block= character,\n",
    "                            target_block= door)\n",
    "\n",
    "unlock_door_action = Action(name= \"character_unlock_door\",\n",
    "                            prerequisites= [CompositeStatement([(statements[\"IsLocked\"],True)]),\n",
    "                                            CompositeStatement([(statements[\"HasKey\"],True)])],\n",
    "                            consequences= [CompositeStatement([(statements[\"IsLocked\"],False)])],\n",
    "                            source_block= character,\n",
    "                            target_block= door)\n",
    "pick_key_action = Action(name= \"character_pick_key\",\n",
    "                            prerequisites= [CompositeStatement([(statements[\"IsPickable\"],True)]),\n",
    "                                            CompositeStatement([(statements[\"HasInventorySpace\"],True)])],\n",
    "                            consequences= [CompositeStatement([(statements[\"IsPickable\"],False)]),\n",
    "                                           CompositeStatement([(statements[\"HasKey\"],True)])],\n",
    "                            source_block= character,\n",
    "                            target_block= key)"
   ]
  },
  {
   "cell_type": "code",
   "execution_count": 26,
   "metadata": {},
   "outputs": [
    {
     "data": {
      "text/plain": [
       "'CompositeStatement()'"
      ]
     },
     "execution_count": 26,
     "metadata": {},
     "output_type": "execute_result"
    }
   ],
   "source": [
    "open_door_action.consequences.name"
   ]
  },
  {
   "cell_type": "code",
   "execution_count": 13,
   "metadata": {},
   "outputs": [],
   "source": [
    "from infinipy.options import Option"
   ]
  },
  {
   "cell_type": "code",
   "execution_count": 14,
   "metadata": {},
   "outputs": [],
   "source": [
    "option = Option()"
   ]
  },
  {
   "cell_type": "code",
   "execution_count": 15,
   "metadata": {},
   "outputs": [
    {
     "data": {
      "text/plain": [
       "dict_keys([])"
      ]
     },
     "execution_count": 15,
     "metadata": {},
     "output_type": "execute_result"
    }
   ],
   "source": [
    "pick_key_action.pre_dict.keys()"
   ]
  },
  {
   "cell_type": "code",
   "execution_count": 16,
   "metadata": {},
   "outputs": [
    {
     "name": "stdout",
     "output_type": "stream",
     "text": [
      "key ('694fe19a-bc9a-4f2d-a40d-5b389447f0cc', None)\n",
      "key (None, '551407db-4b87-494f-bdab-084088b499db')\n",
      "key ('694fe19a-bc9a-4f2d-a40d-5b389447f0cc', '551407db-4b87-494f-bdab-084088b499db')\n"
     ]
    }
   ],
   "source": [
    "option.append(pick_key_action)"
   ]
  },
  {
   "cell_type": "code",
   "execution_count": 17,
   "metadata": {},
   "outputs": [
    {
     "name": "stdout",
     "output_type": "stream",
     "text": [
      "key ('694fe19a-bc9a-4f2d-a40d-5b389447f0cc', None)\n",
      "key (None, '551407db-4b87-494f-bdab-084088b499db')\n",
      "key ('694fe19a-bc9a-4f2d-a40d-5b389447f0cc', '551407db-4b87-494f-bdab-084088b499db')\n",
      "key ('694fe19a-bc9a-4f2d-a40d-5b389447f0cc', None)\n",
      "key (None, '3b131201-9af4-4e5c-b90c-afe66f89fcc3')\n",
      "key ('694fe19a-bc9a-4f2d-a40d-5b389447f0cc', '3b131201-9af4-4e5c-b90c-afe66f89fcc3')\n",
      "key ('694fe19a-bc9a-4f2d-a40d-5b389447f0cc', None)\n",
      "key (None, '3b131201-9af4-4e5c-b90c-afe66f89fcc3')\n",
      "key ('694fe19a-bc9a-4f2d-a40d-5b389447f0cc', '3b131201-9af4-4e5c-b90c-afe66f89fcc3')\n"
     ]
    }
   ],
   "source": [
    "option.append(pick_key_action)\n",
    "option.append(unlock_door_action)\n",
    "option.append(open_door_action)"
   ]
  },
  {
   "cell_type": "code",
   "execution_count": 18,
   "metadata": {},
   "outputs": [],
   "source": [
    "for key,value in option.global_prerequisites.items():\n",
    "    print(key)\n",
    "    print(value.name if isinstance(value,CompositeStatement) else value)"
   ]
  },
  {
   "cell_type": "code",
   "execution_count": 19,
   "metadata": {},
   "outputs": [],
   "source": [
    "for key,value in option.global_consequences.items():\n",
    "    print(key)\n",
    "    print(value.name)"
   ]
  },
  {
   "cell_type": "code",
   "execution_count": 20,
   "metadata": {},
   "outputs": [
    {
     "data": {
      "text/plain": [
       "dict_values([])"
      ]
     },
     "execution_count": 20,
     "metadata": {},
     "output_type": "execute_result"
    }
   ],
   "source": [
    "option.global_consequences.values()"
   ]
  },
  {
   "cell_type": "code",
   "execution_count": 21,
   "metadata": {},
   "outputs": [
    {
     "ename": "TypeError",
     "evalue": "CompositeStatement.__init__() missing 1 required positional argument: 'substatements'",
     "output_type": "error",
     "traceback": [
      "\u001b[1;31m---------------------------------------------------------------------------\u001b[0m",
      "\u001b[1;31mTypeError\u001b[0m                                 Traceback (most recent call last)",
      "\u001b[1;32mc:\\Users\\Tommaso\\Documents\\Dev\\InfinipyRe\\infinipy\\demos\\composite_statements\\compstate.ipynb Cell 21\u001b[0m line \u001b[0;36m1\n\u001b[1;32m----> <a href='vscode-notebook-cell:/c%3A/Users/Tommaso/Documents/Dev/InfinipyRe/infinipy/demos/composite_statements/compstate.ipynb#X66sZmlsZQ%3D%3D?line=0'>1</a>\u001b[0m door_consequence \u001b[39m=\u001b[39moption\u001b[39m.\u001b[39;49mglobal_consequences[(\u001b[39mNone\u001b[39;49;00m,door\u001b[39m.\u001b[39;49mid)]\n",
      "\u001b[1;31mTypeError\u001b[0m: CompositeStatement.__init__() missing 1 required positional argument: 'substatements'"
     ]
    }
   ],
   "source": [
    "door_consequence =option.global_consequences[(None,door.id)]\n"
   ]
  },
  {
   "cell_type": "code",
   "execution_count": null,
   "metadata": {},
   "outputs": [],
   "source": [
    "from infinipy.worldstatement import WorldStatement"
   ]
  },
  {
   "cell_type": "code",
   "execution_count": null,
   "metadata": {},
   "outputs": [],
   "source": [
    "consequence_state_test = WorldStatement.from_dict(option.global_consequences)\n"
   ]
  },
  {
   "cell_type": "code",
   "execution_count": null,
   "metadata": {},
   "outputs": [
    {
     "name": "stdout",
     "output_type": "stream",
     "text": [
      "('76de05d7-5015-4694-9d7a-052d30404041', None)\n",
      "CompositeStatement(HasInventorySpace_source True, HasKey_source True)\n",
      "(None, '9c654589-4ec0-4339-90cb-1967247d35c6')\n",
      "CompositeStatement(IsPickable_target False)\n",
      "(None, '7a2dce6a-741b-4122-bf29-c914c3de2e6b')\n",
      "CompositeStatement(IsOpen_target True, IsLocked_target False)\n"
     ]
    }
   ],
   "source": [
    "for key,value in consequence_state_test.conditions.items():\n",
    "    print(key)\n",
    "    print(value.name)"
   ]
  },
  {
   "cell_type": "code",
   "execution_count": null,
   "metadata": {},
   "outputs": [],
   "source": [
    "consequence_world = []\n",
    "for key,value in option.global_consequences.items():\n",
    "    consequence_world.append((value,key[0],key[1]))\n",
    "consequence_state = WorldStatement(consequence_world)"
   ]
  },
  {
   "cell_type": "code",
   "execution_count": null,
   "metadata": {},
   "outputs": [
    {
     "name": "stdout",
     "output_type": "stream",
     "text": [
      "('76de05d7-5015-4694-9d7a-052d30404041', None)\n",
      "CompositeStatement(HasInventorySpace_source True, HasKey_source True)\n",
      "(None, '9c654589-4ec0-4339-90cb-1967247d35c6')\n",
      "CompositeStatement(IsPickable_target False)\n",
      "(None, '7a2dce6a-741b-4122-bf29-c914c3de2e6b')\n",
      "CompositeStatement(IsOpen_target True, IsLocked_target False)\n"
     ]
    }
   ],
   "source": [
    "for key,value in consequence_state.conditions.items():\n",
    "    print(key)\n",
    "    print(value.name)"
   ]
  },
  {
   "cell_type": "code",
   "execution_count": null,
   "metadata": {},
   "outputs": [],
   "source": [
    "goal = CompositeStatement([(statements[\"IsOpen\"],True)])\n",
    "goal_state = WorldStatement([(goal,None,door.id)])"
   ]
  },
  {
   "cell_type": "code",
   "execution_count": null,
   "metadata": {},
   "outputs": [
    {
     "name": "stdout",
     "output_type": "stream",
     "text": [
      "(None, '7a2dce6a-741b-4122-bf29-c914c3de2e6b')\n",
      "CompositeStatement(IsOpen_target True)\n"
     ]
    }
   ],
   "source": [
    "for key,value in goal_state.conditions.items():\n",
    "    print(key)\n",
    "    print(value.name)"
   ]
  },
  {
   "cell_type": "code",
   "execution_count": null,
   "metadata": {},
   "outputs": [
    {
     "data": {
      "text/plain": [
       "True"
      ]
     },
     "execution_count": 27,
     "metadata": {},
     "output_type": "execute_result"
    }
   ],
   "source": [
    "consequence_state.validates(goal_state)"
   ]
  },
  {
   "cell_type": "code",
   "execution_count": null,
   "metadata": {},
   "outputs": [
    {
     "data": {
      "text/plain": [
       "True"
      ]
     },
     "execution_count": 28,
     "metadata": {},
     "output_type": "execute_result"
    }
   ],
   "source": [
    "goal_state.is_validated_by(consequence_state)"
   ]
  },
  {
   "cell_type": "code",
   "execution_count": null,
   "metadata": {},
   "outputs": [],
   "source": [
    "backward_option = Option()"
   ]
  },
  {
   "cell_type": "code",
   "execution_count": null,
   "metadata": {},
   "outputs": [],
   "source": [
    "backward_option.prepend(open_door_action)\n",
    "backward_option.prepend(unlock_door_action)\n",
    "backward_option.prepend(pick_key_action)\n"
   ]
  },
  {
   "cell_type": "code",
   "execution_count": null,
   "metadata": {},
   "outputs": [
    {
     "name": "stdout",
     "output_type": "stream",
     "text": [
      "(None, '7a2dce6a-741b-4122-bf29-c914c3de2e6b')\n",
      "CompositeStatement(IsLocked_target True, IsOpen_target False)\n",
      "('76de05d7-5015-4694-9d7a-052d30404041', None)\n",
      "CompositeStatement(HasInventorySpace_source True)\n",
      "(None, '9c654589-4ec0-4339-90cb-1967247d35c6')\n",
      "CompositeStatement(IsPickable_target True)\n"
     ]
    }
   ],
   "source": [
    "for key,value in backward_option.global_prerequisites.items():\n",
    "    print(key)\n",
    "    print(value.name if isinstance(value,CompositeStatement) else value)"
   ]
  },
  {
   "cell_type": "code",
   "execution_count": null,
   "metadata": {},
   "outputs": [
    {
     "name": "stdout",
     "output_type": "stream",
     "text": [
      "(None, '7a2dce6a-741b-4122-bf29-c914c3de2e6b')\n",
      "CompositeStatement(IsOpen_target True, IsLocked_target False)\n",
      "('76de05d7-5015-4694-9d7a-052d30404041', None)\n",
      "CompositeStatement(HasInventorySpace_source True, HasKey_source True)\n",
      "(None, '9c654589-4ec0-4339-90cb-1967247d35c6')\n",
      "CompositeStatement(IsPickable_target False)\n"
     ]
    }
   ],
   "source": [
    "for key,value in backward_option.global_consequences.items():\n",
    "    print(key)\n",
    "    print(value.name)"
   ]
  },
  {
   "cell_type": "code",
   "execution_count": null,
   "metadata": {},
   "outputs": [],
   "source": []
  },
  {
   "cell_type": "code",
   "execution_count": null,
   "metadata": {},
   "outputs": [
    {
     "data": {
      "text/plain": [
       "{'result': True,\n",
       " 'name': 'CompositeStatement(HasInventorySpace_source True, IsPickable_target True)',\n",
       " 'composite_string': 'The statement HasInventorySpace_source with description has inventory space applied to the source Character is True. AND The statement IsPickable_target with description is pickable applied to the target Key is True.',\n",
       " 'sub_statements': [{'statement': 'HasInventorySpace_source',\n",
       "   'result': True,\n",
       "   'usage': 'source',\n",
       "   'source': 'Character',\n",
       "   'target': 'Key',\n",
       "   'stringout': 'The statement HasInventorySpace_source with description has inventory space applied to the source Character is True.',\n",
       "   'source_missing': None,\n",
       "   'target_missing': None},\n",
       "  {'statement': 'IsPickable_target',\n",
       "   'result': True,\n",
       "   'usage': 'target',\n",
       "   'source': 'Character',\n",
       "   'target': 'Key',\n",
       "   'stringout': 'The statement IsPickable_target with description is pickable applied to the target Key is True.',\n",
       "   'source_missing': None,\n",
       "   'target_missing': None}],\n",
       " 'conditions': [True, True],\n",
       " 'sub_results': [True, True]}"
      ]
     },
     "execution_count": 33,
     "metadata": {},
     "output_type": "execute_result"
    }
   ],
   "source": [
    "pick_key_action.check_prerequisites()"
   ]
  },
  {
   "cell_type": "code",
   "execution_count": null,
   "metadata": {},
   "outputs": [],
   "source": []
  },
  {
   "cell_type": "code",
   "execution_count": null,
   "metadata": {},
   "outputs": [],
   "source": []
  },
  {
   "cell_type": "code",
   "execution_count": null,
   "metadata": {},
   "outputs": [
    {
     "name": "stdout",
     "output_type": "stream",
     "text": [
      "CompositeStatement(HasInventorySpace_source True)\n",
      "CompositeStatement(IsPickable_target True)\n"
     ]
    }
   ],
   "source": [
    "\n",
    "for key, value in pick_key_action.pre_dict.items():\n",
    "    print(value.name)"
   ]
  },
  {
   "cell_type": "code",
   "execution_count": null,
   "metadata": {},
   "outputs": [
    {
     "ename": "AttributeError",
     "evalue": "'tuple' object has no attribute 'id'",
     "output_type": "error",
     "traceback": [
      "\u001b[1;31m---------------------------------------------------------------------------\u001b[0m",
      "\u001b[1;31mAttributeError\u001b[0m                            Traceback (most recent call last)",
      "\u001b[1;32mc:\\Users\\Tommaso\\Documents\\Dev\\InfinipyRe\\infinipy\\demos\\composite_statements\\compstate.ipynb Cell 38\u001b[0m line \u001b[0;36m1\n\u001b[1;32m----> <a href='vscode-notebook-cell:/c%3A/Users/Tommaso/Documents/Dev/InfinipyRe/infinipy/demos/composite_statements/compstate.ipynb#X33sZmlsZQ%3D%3D?line=0'>1</a>\u001b[0m unlock_door_action\u001b[39m.\u001b[39;49mcheck_prerequisites()\n",
      "File \u001b[1;32mc:\\users\\tommaso\\documents\\dev\\infinipyre\\infinipy\\actions.py:97\u001b[0m, in \u001b[0;36mAction.check_prerequisites\u001b[1;34m(self)\u001b[0m\n\u001b[0;32m     89\u001b[0m \u001b[39mdef\u001b[39;00m \u001b[39mcheck_prerequisites\u001b[39m(\u001b[39mself\u001b[39m) \u001b[39m-\u001b[39m\u001b[39m>\u001b[39m \u001b[39mdict\u001b[39m:\n\u001b[0;32m     90\u001b[0m \u001b[39m    \u001b[39m\u001b[39m\"\"\"\u001b[39;00m\n\u001b[0;32m     91\u001b[0m \u001b[39m    Checks if the prerequisites for the action are met.\u001b[39;00m\n\u001b[0;32m     92\u001b[0m \n\u001b[1;32m   (...)\u001b[0m\n\u001b[0;32m     95\u001b[0m \u001b[39m    :return: A dictionary indicating whether the prerequisites are met and the details of each prerequisite.\u001b[39;00m\n\u001b[0;32m     96\u001b[0m \u001b[39m    \"\"\"\u001b[39;00m\n\u001b[1;32m---> 97\u001b[0m     \u001b[39mreturn\u001b[39;00m \u001b[39mself\u001b[39;49m\u001b[39m.\u001b[39;49mprerequisites(\u001b[39mself\u001b[39;49m\u001b[39m.\u001b[39;49msource_block, \u001b[39mself\u001b[39;49m\u001b[39m.\u001b[39;49mtarget_block)\n",
      "File \u001b[1;32mc:\\users\\tommaso\\documents\\dev\\infinipyre\\infinipy\\statement.py:394\u001b[0m, in \u001b[0;36mCompositeStatement.__call__\u001b[1;34m(self, source_block, target_block)\u001b[0m\n\u001b[0;32m    393\u001b[0m \u001b[39mdef\u001b[39;00m \u001b[39m__call__\u001b[39m(\u001b[39mself\u001b[39m, source_block: StateBlock, target_block: Optional[StateBlock] \u001b[39m=\u001b[39m \u001b[39mNone\u001b[39;00m) \u001b[39m-\u001b[39m\u001b[39m>\u001b[39m \u001b[39mdict\u001b[39m:\n\u001b[1;32m--> 394\u001b[0m     \u001b[39mreturn\u001b[39;00m \u001b[39mself\u001b[39;49m\u001b[39m.\u001b[39;49mapply(source_block, target_block)\n",
      "File \u001b[1;32mc:\\users\\tommaso\\documents\\dev\\infinipyre\\infinipy\\statement.py:208\u001b[0m, in \u001b[0;36mCompositeStatement.apply\u001b[1;34m(self, source_block, target_block)\u001b[0m\n\u001b[0;32m    206\u001b[0m \u001b[39m# Process the first condition separately\u001b[39;00m\n\u001b[0;32m    207\u001b[0m first_statement, first_condition \u001b[39m=\u001b[39m \u001b[39mself\u001b[39m\u001b[39m.\u001b[39mstatements[\u001b[39m0\u001b[39m], \u001b[39mself\u001b[39m\u001b[39m.\u001b[39mconditions[\u001b[39m0\u001b[39m]\n\u001b[1;32m--> 208\u001b[0m first_result, first_result_dict \u001b[39m=\u001b[39m first_statement(source_block, target_block)\n\u001b[0;32m    209\u001b[0m composite_result \u001b[39m=\u001b[39m first_result_dict[\u001b[39m\"\u001b[39m\u001b[39mresult\u001b[39m\u001b[39m\"\u001b[39m] \u001b[39m==\u001b[39m first_condition\n\u001b[0;32m    210\u001b[0m sub_statements \u001b[39m=\u001b[39m [first_result_dict]\n",
      "File \u001b[1;32mc:\\users\\tommaso\\documents\\dev\\infinipyre\\infinipy\\statement.py:147\u001b[0m, in \u001b[0;36mStatement.__call__\u001b[1;34m(self, source_block, target_block)\u001b[0m\n\u001b[0;32m    138\u001b[0m \u001b[39mdef\u001b[39;00m \u001b[39m__call__\u001b[39m(\u001b[39mself\u001b[39m, source_block: StateBlock, target_block: Optional[StateBlock] \u001b[39m=\u001b[39m \u001b[39mNone\u001b[39;00m) \u001b[39m-\u001b[39m\u001b[39m>\u001b[39m \u001b[39mbool\u001b[39m:\n\u001b[0;32m    139\u001b[0m \u001b[39m    \u001b[39m\u001b[39m\"\"\"\u001b[39;00m\n\u001b[0;32m    140\u001b[0m \u001b[39m    Allows the instance to be called as a function, which internally calls the apply method.\u001b[39;00m\n\u001b[0;32m    141\u001b[0m \n\u001b[1;32m   (...)\u001b[0m\n\u001b[0;32m    144\u001b[0m \u001b[39m    :return: True if the condition is met, False otherwise.\u001b[39;00m\n\u001b[0;32m    145\u001b[0m \u001b[39m    \"\"\"\u001b[39;00m\n\u001b[1;32m--> 147\u001b[0m     \u001b[39mreturn\u001b[39;00m \u001b[39mself\u001b[39;49m\u001b[39m.\u001b[39;49mapply(source_block, target_block)\n",
      "File \u001b[1;32mc:\\users\\tommaso\\documents\\dev\\infinipyre\\infinipy\\statement.py:118\u001b[0m, in \u001b[0;36mStatement.apply\u001b[1;34m(self, source_block, target_block)\u001b[0m\n\u001b[0;32m    116\u001b[0m     \u001b[39mreturn\u001b[39;00m \u001b[39mFalse\u001b[39;00m, \u001b[39mself\u001b[39m\u001b[39m.\u001b[39mcreate_out_dict(\u001b[39mFalse\u001b[39;00m,source_block, target_block, source_missing, target_missing)\n\u001b[0;32m    117\u001b[0m \u001b[39mif\u001b[39;00m \u001b[39mself\u001b[39m\u001b[39m.\u001b[39musage \u001b[39m==\u001b[39m \u001b[39m\"\u001b[39m\u001b[39msource\u001b[39m\u001b[39m\"\u001b[39m:\n\u001b[1;32m--> 118\u001b[0m     statement_result \u001b[39m=\u001b[39m \u001b[39mself\u001b[39;49m\u001b[39m.\u001b[39;49mcallable(source_block) \n\u001b[0;32m    119\u001b[0m     \u001b[39mreturn\u001b[39;00m statement_result, \u001b[39mself\u001b[39m\u001b[39m.\u001b[39mcreate_out_dict(statement_result,source_block, target_block, source_missing, target_missing)\n\u001b[0;32m    120\u001b[0m \u001b[39melif\u001b[39;00m \u001b[39mself\u001b[39m\u001b[39m.\u001b[39musage \u001b[39m==\u001b[39m \u001b[39m\"\u001b[39m\u001b[39mtarget\u001b[39m\u001b[39m\"\u001b[39m \u001b[39mand\u001b[39;00m target_block \u001b[39mis\u001b[39;00m \u001b[39mnot\u001b[39;00m \u001b[39mNone\u001b[39;00m:\n",
      "\u001b[1;32mc:\\Users\\Tommaso\\Documents\\Dev\\InfinipyRe\\infinipy\\demos\\composite_statements\\compstate.ipynb Cell 38\u001b[0m line \u001b[0;36m9\n\u001b[0;32m      <a href='vscode-notebook-cell:/c%3A/Users/Tommaso/Documents/Dev/InfinipyRe/infinipy/demos/composite_statements/compstate.ipynb#X33sZmlsZQ%3D%3D?line=7'>8</a>\u001b[0m \u001b[39mdef\u001b[39;00m \u001b[39mhas_key_condition\u001b[39m(character: StateBlock):\n\u001b[1;32m----> <a href='vscode-notebook-cell:/c%3A/Users/Tommaso/Documents/Dev/InfinipyRe/infinipy/demos/composite_statements/compstate.ipynb#X33sZmlsZQ%3D%3D?line=8'>9</a>\u001b[0m     key_id \u001b[39m=\u001b[39m key\u001b[39m.\u001b[39;49mid\n\u001b[0;32m     <a href='vscode-notebook-cell:/c%3A/Users/Tommaso/Documents/Dev/InfinipyRe/infinipy/demos/composite_statements/compstate.ipynb#X33sZmlsZQ%3D%3D?line=9'>10</a>\u001b[0m     \u001b[39mfor\u001b[39;00m item \u001b[39min\u001b[39;00m character\u001b[39m.\u001b[39minventory:\n\u001b[0;32m     <a href='vscode-notebook-cell:/c%3A/Users/Tommaso/Documents/Dev/InfinipyRe/infinipy/demos/composite_statements/compstate.ipynb#X33sZmlsZQ%3D%3D?line=10'>11</a>\u001b[0m         \u001b[39mif\u001b[39;00m item\u001b[39m.\u001b[39mid \u001b[39m==\u001b[39m key_id:\n",
      "\u001b[1;31mAttributeError\u001b[0m: 'tuple' object has no attribute 'id'"
     ]
    }
   ],
   "source": [
    "unlock_door_action.check_prerequisites()"
   ]
  },
  {
   "cell_type": "code",
   "execution_count": null,
   "metadata": {},
   "outputs": [
    {
     "data": {
      "text/plain": [
       "{'result': False,\n",
       " 'name': 'CompositeStatement(HasKey_both True, IsLocked_target True)',\n",
       " 'composite_string': 'The statement HasKey_both with description has key applied to the source Character and the target Door is False. AND The statement IsLocked_target with description is locked applied to the target Door is True.',\n",
       " 'sub_statements': [{'statement': 'HasKey_both',\n",
       "   'result': False,\n",
       "   'usage': 'both',\n",
       "   'source': 'Character',\n",
       "   'target': 'Door',\n",
       "   'stringout': 'The statement HasKey_both with description has key applied to the source Character and the target Door is False.',\n",
       "   'source_missing': None,\n",
       "   'target_missing': None},\n",
       "  {'statement': 'IsLocked_target',\n",
       "   'result': True,\n",
       "   'usage': 'target',\n",
       "   'source': 'Character',\n",
       "   'target': 'Door',\n",
       "   'stringout': 'The statement IsLocked_target with description is locked applied to the target Door is True.',\n",
       "   'source_missing': None,\n",
       "   'target_missing': None}],\n",
       " 'conditions': [True, True],\n",
       " 'sub_results': [False, True]}"
      ]
     },
     "execution_count": 21,
     "metadata": {},
     "output_type": "execute_result"
    }
   ],
   "source": [
    "lock_door_action.check_consequences()"
   ]
  },
  {
   "cell_type": "code",
   "execution_count": null,
   "metadata": {},
   "outputs": [
    {
     "name": "stdout",
     "output_type": "stream",
     "text": [
      "True False\n"
     ]
    }
   ],
   "source": [
    "print(door.is_locked,door.is_open)"
   ]
  },
  {
   "cell_type": "code",
   "execution_count": null,
   "metadata": {},
   "outputs": [],
   "source": [
    "test = CompositeStatement([(statements[\"IsLocked\"],True),(statements[\"IsOpen\"],False)])"
   ]
  },
  {
   "cell_type": "code",
   "execution_count": null,
   "metadata": {},
   "outputs": [
    {
     "ename": "ValueError",
     "evalue": "Target block is None but usage is target for statement IsLocked_target",
     "output_type": "error",
     "traceback": [
      "\u001b[1;31m---------------------------------------------------------------------------\u001b[0m",
      "\u001b[1;31mValueError\u001b[0m                                Traceback (most recent call last)",
      "\u001b[1;32mc:\\Users\\Tommaso\\Documents\\Dev\\InfinipyRe\\infinipy\\demos\\composite_statements\\compstate.ipynb Cell 26\u001b[0m line \u001b[0;36m1\n\u001b[1;32m----> <a href='vscode-notebook-cell:/c%3A/Users/Tommaso/Documents/Dev/InfinipyRe/infinipy/demos/composite_statements/compstate.ipynb#X22sZmlsZQ%3D%3D?line=0'>1</a>\u001b[0m test(door)\n",
      "File \u001b[1;32mc:\\users\\tommaso\\documents\\dev\\infinipyre\\infinipy\\statement.py:364\u001b[0m, in \u001b[0;36mCompositeStatement.__call__\u001b[1;34m(self, source_block, target_block)\u001b[0m\n\u001b[0;32m    363\u001b[0m \u001b[39mdef\u001b[39;00m \u001b[39m__call__\u001b[39m(\u001b[39mself\u001b[39m, source_block: StateBlock, target_block: Optional[StateBlock] \u001b[39m=\u001b[39m \u001b[39mNone\u001b[39;00m) \u001b[39m-\u001b[39m\u001b[39m>\u001b[39m \u001b[39mdict\u001b[39m:\n\u001b[1;32m--> 364\u001b[0m     \u001b[39mreturn\u001b[39;00m \u001b[39mself\u001b[39;49m\u001b[39m.\u001b[39;49mapply(source_block, target_block)\n",
      "File \u001b[1;32mc:\\users\\tommaso\\documents\\dev\\infinipyre\\infinipy\\statement.py:208\u001b[0m, in \u001b[0;36mCompositeStatement.apply\u001b[1;34m(self, source_block, target_block)\u001b[0m\n\u001b[0;32m    206\u001b[0m \u001b[39m# Process the first condition separately\u001b[39;00m\n\u001b[0;32m    207\u001b[0m first_statement, first_condition \u001b[39m=\u001b[39m \u001b[39mself\u001b[39m\u001b[39m.\u001b[39mstatements[\u001b[39m0\u001b[39m], \u001b[39mself\u001b[39m\u001b[39m.\u001b[39mconditions[\u001b[39m0\u001b[39m]\n\u001b[1;32m--> 208\u001b[0m first_result, first_result_dict \u001b[39m=\u001b[39m first_statement(source_block, target_block)\n\u001b[0;32m    209\u001b[0m composite_result \u001b[39m=\u001b[39m first_result_dict[\u001b[39m\"\u001b[39m\u001b[39mresult\u001b[39m\u001b[39m\"\u001b[39m] \u001b[39m==\u001b[39m first_condition\n\u001b[0;32m    210\u001b[0m sub_statements \u001b[39m=\u001b[39m [first_result_dict]\n",
      "File \u001b[1;32mc:\\users\\tommaso\\documents\\dev\\infinipyre\\infinipy\\statement.py:147\u001b[0m, in \u001b[0;36mStatement.__call__\u001b[1;34m(self, source_block, target_block)\u001b[0m\n\u001b[0;32m    138\u001b[0m \u001b[39mdef\u001b[39;00m \u001b[39m__call__\u001b[39m(\u001b[39mself\u001b[39m, source_block: StateBlock, target_block: Optional[StateBlock] \u001b[39m=\u001b[39m \u001b[39mNone\u001b[39;00m) \u001b[39m-\u001b[39m\u001b[39m>\u001b[39m \u001b[39mbool\u001b[39m:\n\u001b[0;32m    139\u001b[0m \u001b[39m    \u001b[39m\u001b[39m\"\"\"\u001b[39;00m\n\u001b[0;32m    140\u001b[0m \u001b[39m    Allows the instance to be called as a function, which internally calls the apply method.\u001b[39;00m\n\u001b[0;32m    141\u001b[0m \n\u001b[1;32m   (...)\u001b[0m\n\u001b[0;32m    144\u001b[0m \u001b[39m    :return: True if the condition is met, False otherwise.\u001b[39;00m\n\u001b[0;32m    145\u001b[0m \u001b[39m    \"\"\"\u001b[39;00m\n\u001b[1;32m--> 147\u001b[0m     \u001b[39mreturn\u001b[39;00m \u001b[39mself\u001b[39;49m\u001b[39m.\u001b[39;49mapply(source_block, target_block)\n",
      "File \u001b[1;32mc:\\users\\tommaso\\documents\\dev\\infinipyre\\infinipy\\statement.py:129\u001b[0m, in \u001b[0;36mStatement.apply\u001b[1;34m(self, source_block, target_block)\u001b[0m\n\u001b[0;32m    127\u001b[0m     \u001b[39mraise\u001b[39;00m \u001b[39mValueError\u001b[39;00m(\u001b[39mf\u001b[39m\u001b[39m\"\u001b[39m\u001b[39mTarget block is None but usage is both for statement \u001b[39m\u001b[39m{\u001b[39;00m\u001b[39mself\u001b[39m\u001b[39m.\u001b[39mname\u001b[39m}\u001b[39;00m\u001b[39m\"\u001b[39m)\n\u001b[0;32m    128\u001b[0m \u001b[39melif\u001b[39;00m \u001b[39mself\u001b[39m\u001b[39m.\u001b[39musage \u001b[39m==\u001b[39m \u001b[39m\"\u001b[39m\u001b[39mtarget\u001b[39m\u001b[39m\"\u001b[39m \u001b[39mand\u001b[39;00m target_block \u001b[39mis\u001b[39;00m \u001b[39mNone\u001b[39;00m:\n\u001b[1;32m--> 129\u001b[0m     \u001b[39mraise\u001b[39;00m \u001b[39mValueError\u001b[39;00m(\u001b[39mf\u001b[39m\u001b[39m\"\u001b[39m\u001b[39mTarget block is None but usage is target for statement \u001b[39m\u001b[39m{\u001b[39;00m\u001b[39mself\u001b[39m\u001b[39m.\u001b[39mname\u001b[39m}\u001b[39;00m\u001b[39m\"\u001b[39m)\n",
      "\u001b[1;31mValueError\u001b[0m: Target block is None but usage is target for statement IsLocked_target"
     ]
    }
   ],
   "source": [
    "test(door)"
   ]
  },
  {
   "cell_type": "code",
   "execution_count": null,
   "metadata": {},
   "outputs": [],
   "source": [
    "test = CompositeStatement([(statements[\"IsOpen\"],False),(statements[\"IsLocked\"],True)])"
   ]
  },
  {
   "cell_type": "code",
   "execution_count": null,
   "metadata": {},
   "outputs": [],
   "source": [
    "test2=CompositeStatement([(statements[\"IsPickable\"],True)])"
   ]
  },
  {
   "cell_type": "code",
   "execution_count": null,
   "metadata": {},
   "outputs": [],
   "source": [
    "testjoined = CompositeStatement.from_composite_statements([(test,False),(test2,False)])"
   ]
  },
  {
   "cell_type": "code",
   "execution_count": null,
   "metadata": {},
   "outputs": [
    {
     "data": {
      "text/plain": [
       "{(<infinipy.statement.Statement at 0x2056f2166e0>, True),\n",
       " (<infinipy.statement.Statement at 0x2056f217f70>, False)}"
      ]
     },
     "execution_count": 12,
     "metadata": {},
     "output_type": "execute_result"
    }
   ],
   "source": [
    "test.substatements"
   ]
  },
  {
   "cell_type": "code",
   "execution_count": null,
   "metadata": {},
   "outputs": [
    {
     "name": "stdout",
     "output_type": "stream",
     "text": [
      "IsLocked_source False\n",
      "IsPickable_source False\n",
      "IsOpen_source True\n"
     ]
    }
   ],
   "source": [
    "for statement, condition in testjoined.substatements:\n",
    "    print(f\"{statement.name} {condition}\")"
   ]
  },
  {
   "cell_type": "code",
   "execution_count": null,
   "metadata": {},
   "outputs": [],
   "source": [
    "out =test.apply(door)"
   ]
  }
 ],
 "metadata": {
  "kernelspec": {
   "display_name": "Python 3",
   "language": "python",
   "name": "python3"
  },
  "language_info": {
   "codemirror_mode": {
    "name": "ipython",
    "version": 3
   },
   "file_extension": ".py",
   "mimetype": "text/x-python",
   "name": "python",
   "nbconvert_exporter": "python",
   "pygments_lexer": "ipython3",
   "version": "3.10.6"
  }
 },
 "nbformat": 4,
 "nbformat_minor": 2
}

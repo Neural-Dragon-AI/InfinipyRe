{
 "cells": [
  {
   "cell_type": "code",
   "execution_count": 1,
   "metadata": {},
   "outputs": [],
   "source": [
    "from infinipy.stateblock import StateBlock\n",
    "import uuid\n",
    "\n",
    "from infinipy.statement import Statement,CompositeStatement\n",
    "from infinipy.transformer import Transformer,CompositeTransformer\n",
    "from infinipy.affordance import Affordance\n",
    "from dataclasses import dataclass, field\n",
    "from typing import List, Optional, Dict, Any, Union, Tuple\n"
   ]
  },
  {
   "cell_type": "code",
   "execution_count": 2,
   "metadata": {},
   "outputs": [],
   "source": [
    "@dataclass\n",
    "class Door(StateBlock):\n",
    "    is_open: bool = False  # Attribute to indicate if the door is open\n",
    "    is_locked: bool = False  # Attribute to indicate if the door is locked\n",
    "\n",
    "    def __post_init__(self):\n",
    "        super().__post_init__()  # Call the post-init of StateBlock\n",
    "        # Additional initialization can be added here if needed\n"
   ]
  },
  {
   "cell_type": "code",
   "execution_count": 3,
   "metadata": {},
   "outputs": [],
   "source": [
    "door = Door(\n",
    "    id=str(uuid.uuid4()),\n",
    "    owner_id=\"door_owner\",  # Identifier of the door's owner or location\n",
    "    name=\"Door\",\n",
    "    blocks_move=True,  # A closed door blocks movement\n",
    "    blocks_los=False,  # A door doesn't generally block line of sight\n",
    "    can_store=False,\n",
    "    can_be_stored=False,\n",
    "    can_act=False,\n",
    "    can_move=False,\n",
    "    can_be_moved=False,\n",
    "    position=(0, 0, 0),  # Position of the door in the environment\n",
    "    is_open=False,  # Custom attribute indicating if the door is open\n",
    "    is_locked=True  # Custom attribute indicating if the door is locked\n",
    ")\n"
   ]
  },
  {
   "cell_type": "code",
   "execution_count": 4,
   "metadata": {},
   "outputs": [],
   "source": [
    "def is_open_condition(door: StateBlock):\n",
    "    return door.is_open\n",
    "\n",
    "def is_closed_condition(door: StateBlock):\n",
    "    return not door.is_open\n",
    "\n",
    "def is_locked_condition(door: StateBlock):\n",
    "    return door.is_locked\n",
    "\n",
    "def is_unlocked_condition(door: StateBlock):\n",
    "    return not door.is_locked\n",
    "\n",
    "statement_is_open = Statement(\n",
    "    name=\"IsOpen\",\n",
    "    description=\"is open\",\n",
    "    condition=is_open_condition\n",
    ")\n",
    "\n",
    "statement_is_closed = Statement(\n",
    "    name=\"IsClosed\",\n",
    "    description=\"is closed\",\n",
    "    condition=is_closed_condition\n",
    ")\n",
    "\n",
    "statement_is_locked = Statement(\n",
    "    name=\"IsLocked\",\n",
    "    description=\"is locked\",\n",
    "    condition=is_locked_condition\n",
    ")\n",
    "\n",
    "statement_is_unlocked = Statement(\n",
    "    name=\"IsUnlocked\",\n",
    "    description=\"is unlocked\",\n",
    "    condition=is_unlocked_condition\n",
    ")\n",
    "composite_statement_closed_locked = CompositeStatement([\n",
    "    (statement_is_closed, \"AND\", \"source\"),\n",
    "    (statement_is_locked, \"AND\", \"source\")\n",
    "])\n",
    "\n",
    "composite_statement_closed_or_locked = CompositeStatement([\n",
    "    (statement_is_closed, \"OR\", \"source\"),\n",
    "    (statement_is_locked, \"OR\", \"source\")\n",
    "])"
   ]
  },
  {
   "cell_type": "code",
   "execution_count": 5,
   "metadata": {},
   "outputs": [],
   "source": [
    "def open_door(door: Door):\n",
    "    if not door.is_open:\n",
    "        door.is_open = True\n",
    "\n",
    "\n",
    "consequence_open_door = CompositeStatement([\n",
    "    (statement_is_open, \"AND\", \"source\"),\n",
    "    (statement_is_closed, \"AND NOT\", \"source\"),\n",
    "])\n",
    "prerequisite_open_door = CompositeStatement([\n",
    "    (statement_is_closed, \"AND\", \"source\"),\n",
    "    (statement_is_open, \"AND NOT\", \"source\"),\n",
    "    (statement_is_unlocked, \"AND\", \"source\"),\n",
    "    (statement_is_locked, \"AND NOT\", \"source\")\n",
    "])\n",
    "\n",
    "\n",
    "transformer_open_door = CompositeTransformer(\n",
    "    transformers=[(\n",
    "        Transformer(\n",
    "        name=\"OpenDoor\",\n",
    "        transformation=open_door,\n",
    "        consequences=consequence_open_door),\"source\")])\n",
    "\n",
    "#composite transfo\n",
    "def close_door(door: Door):\n",
    "    if door.is_open:\n",
    "        door.is_open = False\n",
    "\n",
    "\n",
    "consequence_close_door = CompositeStatement([\n",
    "    (statement_is_closed, \"AND\", \"source\"),\n",
    "    (statement_is_open, \"AND NOT\", \"source\"),\n",
    "])\n",
    "\n",
    "prerequisite_close_door = CompositeStatement([\n",
    "    (statement_is_open, \"AND\", \"source\"),\n",
    "    (statement_is_closed, \"AND NOT\", \"source\"),\n",
    "    (statement_is_unlocked, \"AND\", \"source\"),\n",
    "    (statement_is_locked, \"AND NOT\", \"source\"),\n",
    "])\n",
    "\n",
    "transformer_close_door = CompositeTransformer(\n",
    "    transformers=[(Transformer(\n",
    "    name=\"CloseDoor\",\n",
    "    transformation=close_door,\n",
    "    consequences=consequence_close_door\n",
    "), \"source\")])\n",
    "\n",
    "def lock_door(door: Door):\n",
    "    if not door.is_locked:\n",
    "        door.is_locked = True\n",
    "\n",
    "\n",
    "\n",
    "prerequisite_lock_door = CompositeStatement([\n",
    "    (statement_is_unlocked, \"AND\", \"source\"),\n",
    "    (statement_is_locked, \"AND NOT\", \"source\"),\n",
    "\n",
    "])\n",
    "\n",
    "consequence_lock_door = CompositeStatement([\n",
    "    (statement_is_locked, \"AND\", \"source\"),\n",
    "    (statement_is_unlocked, \"AND NOT\", \"source\"),\n",
    "])\n",
    "\n",
    "transformer_lock_door = CompositeTransformer(\n",
    "    transformers=[(Transformer(\n",
    "    name=\"LockDoor\",\n",
    "    transformation=lock_door,\n",
    "    consequences=consequence_lock_door\n",
    "), \"source\")])\n",
    "\n",
    "\n",
    "def unlock_door(door: Door):\n",
    "    if door.is_locked:\n",
    "        door.is_locked = False\n",
    "\n",
    "\n",
    "prerequisite_unlock_door = CompositeStatement([\n",
    "    (statement_is_locked, \"AND\", \"source\"),\n",
    "    (statement_is_unlocked, \"AND NOT\", \"source\"),\n",
    "    \n",
    "])\n",
    "consequence_unlock_door = CompositeStatement([\n",
    "    (statement_is_unlocked, \"AND\", \"source\"),\n",
    "    (statement_is_locked, \"AND NOT\", \"source\"),\n",
    "])\n",
    "\n",
    "transformer_unlock_door = CompositeTransformer(\n",
    "    transformers=[(Transformer(\n",
    "    name=\"UnlockDoor\",\n",
    "    transformation=unlock_door,\n",
    "    consequences=consequence_unlock_door\n",
    "), \"source\")])\n",
    "\n",
    "\n",
    "staments  = [statement_is_open,statement_is_closed,statement_is_locked,statement_is_unlocked]\n",
    "prerequisites = [prerequisite_close_door,prerequisite_open_door,prerequisite_lock_door,prerequisite_unlock_door]\n",
    "consequences = [consequence_close_door,consequence_open_door,consequence_lock_door,consequence_unlock_door]"
   ]
  },
  {
   "cell_type": "code",
   "execution_count": 6,
   "metadata": {},
   "outputs": [],
   "source": [
    "affordance_open_door = Affordance(\n",
    "    name=\"OpenDoorAffordance\",\n",
    "    prerequisites=[prerequisite_open_door],\n",
    "    transformations=[transformer_open_door]\n",
    ")\n",
    "affordance_close_door = Affordance(\n",
    "    name=\"CloseDoorAffordance\",\n",
    "    prerequisites=[prerequisite_close_door],\n",
    "    transformations=[transformer_close_door]\n",
    ")\n",
    "affordance_lock_door = Affordance(\n",
    "    name=\"LockDoorAffordance\",\n",
    "    prerequisites=[prerequisite_lock_door],\n",
    "    transformations=[transformer_lock_door]\n",
    ")\n",
    "affordance_unlock_door = Affordance(\n",
    "    name=\"UnlockDoorAffordance\",\n",
    "    prerequisites=[prerequisite_unlock_door],\n",
    "    transformations=[transformer_unlock_door]\n",
    ")\n",
    "\n",
    "affordances = [affordance_open_door, affordance_close_door, affordance_lock_door, affordance_unlock_door]\n",
    "\n",
    "def print_door_status(door: Door):\n",
    "    if door.is_open:\n",
    "        print(\"The door is open\")\n",
    "    else:\n",
    "        print(\"The door is closed\")\n",
    "    if door.is_locked:\n",
    "        print(\"The door is locked\")\n",
    "    else:\n",
    "        print(\"The door is unlocked\")"
   ]
  },
  {
   "cell_type": "code",
   "execution_count": 7,
   "metadata": {},
   "outputs": [
    {
     "name": "stdout",
     "output_type": "stream",
     "text": [
      "The door is closed\n",
      "The door is locked\n",
      "the door can be opened False\n",
      "the door can be unlocked True\n",
      "The door is closed\n",
      "The door is unlocked\n",
      "the door can be opened True\n",
      "The door is open\n",
      "The door is unlocked\n",
      "the door can be locked True\n",
      "The door is open\n",
      "The door is locked\n",
      "the door can be closed False\n",
      "the door can be unlocked True\n",
      "The door is open\n",
      "The door is unlocked\n",
      "the door can be closed True\n",
      "The door is closed\n",
      "The door is unlocked\n"
     ]
    }
   ],
   "source": [
    "#1 start with a closed and unlocked door\n",
    "\n",
    "print_door_status(door)\n",
    "# try to open the door but door is locked\n",
    "print(\"the door can be opened\",affordance_open_door.is_applicable(door))\n",
    "# unlock the door\n",
    "print(\"the door can be unlocked\",affordance_unlock_door.is_applicable(door))\n",
    "affordance_unlock_door.apply(door)\n",
    "print_door_status(door)\n",
    "# ry if the door can be opened now\n",
    "print(\"the door can be opened\",affordance_open_door.is_applicable(door))\n",
    "# open the door\n",
    "affordance_open_door.apply(door)\n",
    "print_door_status(door)\n",
    "#try to lock the door\n",
    "print(\"the door can be locked\",affordance_lock_door.is_applicable(door))\n",
    "#lock the door\n",
    "affordance_lock_door.apply(door)\n",
    "print_door_status(door)\n",
    "#try to close the door\n",
    "print(\"the door can be closed\",affordance_close_door.is_applicable(door))\n",
    "#the door can be unlocked\n",
    "print(\"the door can be unlocked\",affordance_unlock_door.is_applicable(door))\n",
    "#unlock the door\n",
    "affordance_unlock_door.apply(door)\n",
    "print_door_status(door)\n",
    "#the door can be closed\n",
    "print(\"the door can be closed\",affordance_close_door.is_applicable(door))\n",
    "#close the door\n",
    "affordance_close_door.apply(door)\n",
    "print_door_status(door)\n"
   ]
  },
  {
   "cell_type": "code",
   "execution_count": null,
   "metadata": {},
   "outputs": [],
   "source": []
  },
  {
   "cell_type": "code",
   "execution_count": 8,
   "metadata": {},
   "outputs": [
    {
     "name": "stdout",
     "output_type": "stream",
     "text": [
      "The door is closed\n",
      "The door is locked\n"
     ]
    }
   ],
   "source": [
    "affordance_lock_door.apply(door)\n",
    "print_door_status(door)"
   ]
  },
  {
   "cell_type": "code",
   "execution_count": 9,
   "metadata": {},
   "outputs": [
    {
     "name": "stdout",
     "output_type": "stream",
     "text": [
      "the goal is IsOpen\n",
      "the state of the goal is currently False\n",
      "the action OpenDoorAffordance will make the goal true\n",
      "the action OpenDoorAffordance is not applicable, because of the following statements: [('CompositeStatement(IsClosed AND source, IsOpen AND NOT source, IsUnlocked AND source, IsLocked AND NOT source)', False)]\n",
      "setting subgoal CompositeStatement(IsClosed AND source, IsOpen AND NOT source, IsUnlocked AND source, IsLocked AND NOT source) to True\n",
      "found the statement object corresponding to  CompositeStatement(IsClosed AND source, IsOpen AND NOT source, IsUnlocked AND source, IsLocked AND NOT source)\n",
      "checking across the substatements which are not true\n",
      "the statement IsUnlocked is  False , but it needs to be True in order to apply the action OpenDoorAffordance\n",
      "setting subgoal ('IsUnlocked', True) to True\n",
      "the action UnlockDoorAffordance will make the goal true\n",
      "the action UnlockDoorAffordance is applicable\n",
      "the statement IsLocked is  True , but it needs to be False in order to apply the action OpenDoorAffordance\n",
      "setting subgoal ('IsLocked', False) to False\n",
      "the action UnlockDoorAffordance will make the goal true\n",
      "the action UnlockDoorAffordance is applicable\n"
     ]
    }
   ],
   "source": [
    "goal = (statement_is_open,door)\n",
    "print(\"the goal is\",goal[0].name)\n",
    "print(\"the state of the goal is currently\",goal[0](goal[1])[0])\n",
    "#need to find which actions if applied to door will make the goal true and whether it is possible to apply them\n",
    "reach_goal =[]\n",
    "for affordance in affordances:\n",
    "    force_true = affordance.force_consequence_true(door)\n",
    "    sub_statements = force_true[0][0][0][\"sub_statements\"]\n",
    "    for substate in sub_statements:\n",
    "        if substate[\"statement\"] == goal[0].name and substate[\"result\"] == True:\n",
    "            print(f\"the action {affordance.name} will make the goal true\")\n",
    "            #check if the action is applicable\n",
    "            if affordance.is_applicable(door):\n",
    "                print(f\"the action {affordance.name} is applicable\")\n",
    "            else:\n",
    "                print(f\"the action {affordance.name} is not applicable, because of the following statements: {affordance.why_not_applicable(door)}\")\n",
    "                reach_goal.append(affordance)\n",
    "                new_goal_name = reach_goal[0].why_not_applicable(door)[0][0]\n",
    "                print(\"setting subgoal\",new_goal_name,\"to\",True)\n",
    "                for statement in prerequisites:\n",
    "                    if statement.name == new_goal_name:\n",
    "                        print(\"found the statement object corresponding to \",statement.name)\n",
    "                        new_goal = (statement,door)\n",
    "                        eval_new_goal = new_goal[0](new_goal[1])\n",
    "                        eval_true_new_goal = new_goal[0].force_true(new_goal[1])[0]\n",
    "                        print(\"checking across the substatements which are not true\")\n",
    "                        for substatement in zip(eval_new_goal[\"sub_statements\"],eval_true_new_goal[\"sub_statements\"]):\n",
    "                            if substatement[0][\"result\"] != substatement[1][\"result\"]:\n",
    "                                print(f\"the statement {substatement[0]['statement']} is  {substatement[0]['result']} , but it needs to be {substatement[1]['result']} in order to apply the action {reach_goal[0].name}\")\n",
    "                                second_goal_name= (substatement[0]['statement'], substatement[1][\"result\"])\n",
    "                                print(\"setting subgoal\",second_goal_name,\"to\",substatement[1][\"result\"])\n",
    "                                for affordance in affordances:\n",
    "                                    force_true = affordance.force_consequence_true(door)\n",
    "                                    sub_statements = force_true[0][0][0][\"sub_statements\"]\n",
    "                                    for substate in sub_statements:\n",
    "                                        if substate[\"statement\"] == second_goal_name[0] and substate[\"result\"] == second_goal_name[1]:\n",
    "                                            print(f\"the action {affordance.name} will make the goal true\")\n",
    "                                            #check if the action is applicable\n",
    "                                            if affordance.is_applicable(door):\n",
    "                                                print(f\"the action {affordance.name} is applicable\")\n",
    "                                            else:\n",
    "                                                print(f\"the action {affordance.name} is not applicable, because of the following statements: {affordance.why_not_applicable(door)}\")\n",
    "                                                reach_goal.append(affordance)\n",
    "                \n",
    "# print(force_true[0][0][0][\"sub_statements\"])"
   ]
  },
  {
   "cell_type": "code",
   "execution_count": 10,
   "metadata": {},
   "outputs": [],
   "source": [
    "from typing import List, Dict\n",
    "import copy\n",
    "\n",
    "class GOAPPlanner:\n",
    "    \"\"\"\n",
    "    A class for Goal-Oriented Action Planning (GOAP) in a state-based system.\n",
    "\n",
    "    Attributes:\n",
    "        affordances (List[Affordance]): A list of all possible affordances (actions) in the system.\n",
    "        prerequisites (Dict[str, Statement]): A mapping from statement names to Statement objects, representing prerequisites for affordances.\n",
    "    \"\"\"\n",
    "\n",
    "    def __init__(self, affordances: List[Affordance]):\n",
    "        \"\"\"\n",
    "        Initialize the GOAPPlanner with affordances and their prerequisites.\n",
    "\n",
    "        Args:\n",
    "            affordances (List[Affordance]): The list of all affordances in the system.\n",
    "            prerequisites (Dict[str, Statement]): The mapping of statement names to Statement objects.\n",
    "        \"\"\"\n",
    "        self.affordances = affordances\n",
    "        self.prerequisites = self.extract_prerequisites(affordances)\n",
    "        self.convert_dict={\"AND\": True, \"AND NOT\":False}\n",
    "        self.planning_steps = []\n",
    "\n",
    "    def update_planning_step(self, message: str):\n",
    "        \"\"\"\n",
    "        Update the planning steps with a new message.\n",
    "\n",
    "        Args:\n",
    "            message (str): The message to add to the planning steps.\n",
    "        \"\"\"\n",
    "        self.planning_steps.append(message)\n",
    "\n",
    "    def get_and_clear_planning_steps(self) -> List[str]:\n",
    "        \"\"\"\n",
    "        Retrieve and clear the planning steps.\n",
    "\n",
    "        Returns:\n",
    "            List[str]: The list of planning steps.\n",
    "        \"\"\"\n",
    "        steps = self.planning_steps[:]\n",
    "        self.planning_steps = []\n",
    "        return steps    \n",
    "\n",
    "    def extract_prerequisites(self, affordances: List[Affordance]) -> Dict[str, Statement]:\n",
    "        \"\"\"\n",
    "        Extract prerequisites from a list of affordances.\n",
    "\n",
    "        This method goes through each affordance and collects its prerequisites. It creates a dictionary\n",
    "        mapping each prerequisite's name to the corresponding Statement object.\n",
    "\n",
    "        Args:\n",
    "            affordances (List[Affordance]): A list of affordances from which prerequisites are to be extracted.\n",
    "\n",
    "        Returns:\n",
    "            Dict[str, Statement]: A dictionary mapping the names of prerequisites to their corresponding Statement objects.\n",
    "        \"\"\"\n",
    "        prerequisites = {}\n",
    "        for affordance in affordances:\n",
    "            for prerequisite in affordance.prerequisites:\n",
    "                prerequisites[prerequisite.name] = prerequisite\n",
    "                #each of htis is a composite statement so we now loop through the substatements and add all of them to the prerequisites\n",
    "                for substatement in prerequisite.conditions:\n",
    "                    #add the statement to the prerequisites\n",
    "                    #pack the statement and condition into a composite statement\n",
    "                    compstat = CompositeStatement([substatement])\n",
    "                    prerequisites[compstat.name] = compstat\n",
    "                    prerequisites[substatement[0].name] = substatement[0]\n",
    "         \n",
    "                 \n",
    "        return prerequisites\n",
    "    \n",
    "    def get_filtered_subgoals(self,goal: Union[Tuple[CompositeStatement,bool],Tuple[Statement,bool]],entity: Door) -> List[Tuple[Statement,bool]]:\n",
    "         # currently only taking the first true_dict would be worth to explore the full list in some proper examples\n",
    "        goal_dict_raw= goal[0].force_true(entity)[0]\n",
    "        goal_dict = copy.deepcopy(goal_dict_raw)\n",
    "        \n",
    "        #selects the subset of goa that are not true right now\n",
    "        for substatement in goal_dict_raw[\"sub_statements\"]:\n",
    "            print(substatement[\"statement\"],substatement[\"result\"])\n",
    "            if substatement[\"result\"] == self.prerequisites[substatement[\"statement\"]].apply(entity)[1][\"result\"]:\n",
    "                #pop the substatement if it is already true\n",
    "                print(f\"removing the statement {substatement['statement']} from the goal because it is  {substatement['result']} and it needs to be {self.prerequisites[substatement['statement']].apply(entity)[1]['result']} in order to apply the action {goal[0].name}\")\n",
    "                goal_dict[\"sub_statements\"].remove(substatement)\n",
    "            else:\n",
    "                print(f\"the statement {substatement['statement']} is {self.prerequisites[substatement['statement']].apply(entity)[1]['result']}  , but it needs to be {substatement['result']} in order to apply the action {goal[0].name}\")\n",
    "        print(len(goal_dict_raw[\"sub_statements\"]),len(goal_dict[\"sub_statements\"]))\n",
    "        return goal_dict\n",
    "\n",
    "\n",
    "    def find_terminal_affordances(self, goal: Union[Tuple[CompositeStatement,bool],Tuple[Statement,bool]], entity: Door) -> List[Affordance]:\n",
    "        \"\"\"\n",
    "        Find affordances that can directly or indirectly achieve the specified goal.\n",
    "\n",
    "        Args:\n",
    "            goal (CompositeStatement): The goal statement to be achieved as a composite statement or a statement and boolean value.\n",
    "            entity: The entity over which the final goal is specified\n",
    "\n",
    "        Returns:\n",
    "            List[Affordance]: A list of affordances that can achieve the goal.\n",
    "        \"\"\"\n",
    "        terminal_affordances = []\n",
    "        partial_affordances = []\n",
    "        goal_dict = self.get_filtered_subgoals(goal,entity)\n",
    "        num_substatements = len(goal_dict[\"sub_statements\"])\n",
    "        #create a set of all the substatements in the goal dict\n",
    "        matched_substatements_set = set()\n",
    "        for affordance in self.affordances:\n",
    "                num_matching_substatements = 0\n",
    "                matching_substatemtents = []\n",
    "                                \n",
    "                # print(f\"the goal {goal[0].name} is a composite statement\")\n",
    "                #the goals is a composite statement, same as the consequence object of the affordance so we can directly check if the goal is achieved\n",
    "                #first loop is for the different composite transformers of the affordance \n",
    "                # the second loop is for the different transformers of each composite transformer\n",
    "                # the third loops are the different consequences of each transformer\n",
    "                # the fourth loop is for the different substatements of each consequence (should not be necessary if goal is a composite statement)\n",
    "                transformations_dict_list = affordance.force_consequence_true(entity)\n",
    "                for composite_transformer in transformations_dict_list:\n",
    "                    for transformer in composite_transformer:\n",
    "                        for consequence in transformer:\n",
    "                            #tries to match the whole composite statement with the conseuquence\n",
    "                            if consequence[\"name\"] == goal[0].name and consequence[\"result\"] == goal[1]:\n",
    "                                print(consequence[\"name\"],goal[0].name,num_substatements)\n",
    "                                terminal_affordances.append((affordance,num_substatements))\n",
    "                            else:\n",
    "                                print(\"triny to match substatements\")\n",
    "                                #tries to match the substatements of the composite statement with the substatements of the consequence\n",
    "                                for substatement in consequence[\"sub_statements\"]:\n",
    "                                    for goal_substatement in goal_dict[\"sub_statements\"]:\n",
    "                                    \n",
    "                                        if substatement[\"statement\"] == goal_substatement[\"statement\"] and substatement[\"result\"] == goal_substatement[\"result\"]:\n",
    "                                            num_matching_substatements += 1\n",
    "                                            matching_substatemtents.append(substatement)\n",
    "                                            matched_substatements_set.add(substatement[\"statement\"])\n",
    "                if num_matching_substatements == num_substatements:\n",
    "                    terminal_affordances.append((affordance,num_substatements)) \n",
    "                    print(\"found a terminal affordance\",affordance.name)\n",
    "                    \n",
    "                elif num_matching_substatements > 0:\n",
    "                    partial_affordances.append((affordance,num_matching_substatements))\n",
    "                    print(\"found a partial affordance\",affordance.name)\n",
    "                    for substatement in matching_substatemtents:\n",
    "                        print(f\"the follwoing substatemtens match {substatement}\")\n",
    "        if len(matched_substatements_set) < num_substatements and len(terminal_affordances) == 0:\n",
    "            print(\"the goal is not achievable\")\n",
    "            return [],[]    \n",
    "                                                                \n",
    "        return terminal_affordances,partial_affordances\n",
    "    \n",
    "\n",
    "\n",
    "    def find_subgoals_for_affordance(self, affordance: Affordance, entity: Door) -> List[str]:\n",
    "        \"\"\"\n",
    "        Identify subgoals that need to be achieved to make an action applicable.\n",
    "\n",
    "        Args:\n",
    "            action (Affordance): The affordance whose applicability needs to be checked.\n",
    "            door (Door): The Door object representing the current state.\n",
    "\n",
    "        Returns:\n",
    "            List[str]: A list of names of subgoal statements.\n",
    "        \"\"\"\n",
    "        subgoals = []\n",
    "        why_not_applicable = affordance.why_not_applicable(entity)\n",
    "        for reason in why_not_applicable:\n",
    "            subgoals.append(reason[0])\n",
    "        return subgoals\n",
    "\n",
    "    def is_goal_achieved(self, goal: Union[Tuple[CompositeStatement,bool],Tuple[Statement,bool]], entity: Door) -> bool:\n",
    "        \"\"\"\n",
    "        Check if the goal is achieved for the given door state.\n",
    "\n",
    "        Args:\n",
    "            goal (CompositeStatement): The goal to be checked.\n",
    "            door (Door): The Door object representing the current state.\n",
    "\n",
    "        Returns:\n",
    "            bool: True if the goal is achieved, False otherwise.\n",
    "        \"\"\"\n",
    "        return goal[0].apply(entity)[\"result\"] == goal[1]\n",
    "\n",
    "    \n",
    "\n",
    "    def achieve_goal(self, goal: Union[Tuple[CompositeStatement, bool], Tuple[Statement, bool]], entity: Door, applied_actions: List[Affordance] = [], depth: int = 0) -> List[Affordance]:\n",
    "        \"\"\"\n",
    "        Recursively achieve the specified goal using terminal affordances.\n",
    "\n",
    "        Args:\n",
    "            goal (Union[Tuple[CompositeStatement, bool], Tuple[Statement, bool]]): The goal or subgoal to be achieved.\n",
    "            entity (Door): The entity on which the goal is being applied.\n",
    "            applied_actions (List[Affordance]): Accumulator for actions applied in the process of achieving the goal.\n",
    "            depth (int): Depth of recursion to prevent infinite loops.\n",
    "\n",
    "        Returns:\n",
    "            List[Affordance]: A sequence of affordances that achieve the goal.\n",
    "        \"\"\"\n",
    "        if depth > 10:  # Avoid infinite recursion\n",
    "            return applied_actions\n",
    "\n",
    "        # Check if the goal is already achieved\n",
    "        if self.is_goal_achieved(goal, entity):\n",
    "            return applied_actions\n",
    "\n",
    "        # Find terminal affordances that can achieve the goal\n",
    "        terminal_affordances, _ = self.find_terminal_affordances(goal, entity)\n",
    "        for affordance, _ in terminal_affordances:\n",
    "            # Apply the affordance and update the entity's state\n",
    "            affordance.apply(entity)\n",
    "            applied_actions.append(affordance)\n",
    "            \n",
    "            # Check if the goal is achieved after applying the affordance\n",
    "            if self.is_goal_achieved(goal, entity):\n",
    "                return applied_actions\n",
    "            \n",
    "            # Otherwise, find the next subgoals and recurse\n",
    "            next_subgoals = self.find_subgoals_for_affordance(affordance, entity)\n",
    "            for subgoal_name in next_subgoals:\n",
    "                subgoal_statement = self.prerequisites[subgoal_name]\n",
    "                result = self.achieve_goal((subgoal_statement, True), entity, applied_actions, depth + 1)\n",
    "                if self.is_goal_achieved(goal, entity):\n",
    "                    return result\n",
    "\n",
    "        return applied_actions\n"
   ]
  },
  {
   "cell_type": "code",
   "execution_count": 11,
   "metadata": {},
   "outputs": [
    {
     "data": {
      "text/plain": [
       "{'CompositeStatement(IsClosed AND source, IsOpen AND NOT source, IsUnlocked AND source, IsLocked AND NOT source)': <infinipy.statement.CompositeStatement at 0x22a62ec5ae0>,\n",
       " 'CompositeStatement(IsClosed AND source)': <infinipy.statement.CompositeStatement at 0x22a62ef8af0>,\n",
       " 'IsClosed': <infinipy.statement.Statement at 0x22a628bc670>,\n",
       " 'CompositeStatement(IsOpen AND NOT source)': <infinipy.statement.CompositeStatement at 0x22a62ef92a0>,\n",
       " 'IsOpen': <infinipy.statement.Statement at 0x22a6298a1d0>,\n",
       " 'CompositeStatement(IsUnlocked AND source)': <infinipy.statement.CompositeStatement at 0x22a62ef9720>,\n",
       " 'IsUnlocked': <infinipy.statement.Statement at 0x22a62ec4f40>,\n",
       " 'CompositeStatement(IsLocked AND NOT source)': <infinipy.statement.CompositeStatement at 0x22a62ef9870>,\n",
       " 'IsLocked': <infinipy.statement.Statement at 0x22a62ec4f70>,\n",
       " 'CompositeStatement(IsOpen AND source, IsClosed AND NOT source, IsUnlocked AND source, IsLocked AND NOT source)': <infinipy.statement.CompositeStatement at 0x22a62ec5660>,\n",
       " 'CompositeStatement(IsOpen AND source)': <infinipy.statement.CompositeStatement at 0x22a62ef97e0>,\n",
       " 'CompositeStatement(IsClosed AND NOT source)': <infinipy.statement.CompositeStatement at 0x22a62ef9750>,\n",
       " 'CompositeStatement(IsUnlocked AND source, IsLocked AND NOT source)': <infinipy.statement.CompositeStatement at 0x22a62ec4d00>,\n",
       " 'CompositeStatement(IsLocked AND source, IsUnlocked AND NOT source)': <infinipy.statement.CompositeStatement at 0x22a62ec44c0>,\n",
       " 'CompositeStatement(IsLocked AND source)': <infinipy.statement.CompositeStatement at 0x22a62ef96f0>,\n",
       " 'CompositeStatement(IsUnlocked AND NOT source)': <infinipy.statement.CompositeStatement at 0x22a62ef98a0>}"
      ]
     },
     "execution_count": 11,
     "metadata": {},
     "output_type": "execute_result"
    }
   ],
   "source": [
    "planner = GOAPPlanner(affordances)\n",
    "planner.prerequisites"
   ]
  },
  {
   "cell_type": "code",
   "execution_count": 12,
   "metadata": {},
   "outputs": [
    {
     "name": "stdout",
     "output_type": "stream",
     "text": [
      "The door is closed\n",
      "The door is locked\n"
     ]
    }
   ],
   "source": [
    "print_door_status(door)"
   ]
  },
  {
   "cell_type": "code",
   "execution_count": null,
   "metadata": {},
   "outputs": [],
   "source": [
    "goal = (CompositeStatement([\n",
    "    (statement_is_open, \"AND\", \"source\"),\n",
    "    (statement_is_closed, \"AND NOT\", \"source\"),\n",
    "]), True)\n",
    "print(goal)"
   ]
  },
  {
   "cell_type": "code",
   "execution_count": 24,
   "metadata": {},
   "outputs": [
    {
     "name": "stdout",
     "output_type": "stream",
     "text": [
      "IsOpen True\n",
      "the statement IsOpen is False  , but it needs to be True in order to apply the action CompositeStatement(IsOpen AND source, IsClosed AND NOT source)\n",
      "IsClosed False\n",
      "the statement IsClosed is True  , but it needs to be False in order to apply the action CompositeStatement(IsOpen AND source, IsClosed AND NOT source)\n",
      "2 2\n",
      "CompositeStatement(IsOpen AND source, IsClosed AND NOT source) CompositeStatement(IsOpen AND source, IsClosed AND NOT source) 2\n",
      "triny to match substatements\n",
      "triny to match substatements\n",
      "triny to match substatements\n",
      "IsClosed True\n",
      "removing the statement IsClosed from the goal because it is  True and it needs to be True in order to apply the action CompositeStatement(IsClosed AND source, IsOpen AND NOT source, IsUnlocked AND source, IsLocked AND NOT source)\n",
      "IsOpen False\n",
      "removing the statement IsOpen from the goal because it is  False and it needs to be False in order to apply the action CompositeStatement(IsClosed AND source, IsOpen AND NOT source, IsUnlocked AND source, IsLocked AND NOT source)\n",
      "IsUnlocked True\n",
      "the statement IsUnlocked is False  , but it needs to be True in order to apply the action CompositeStatement(IsClosed AND source, IsOpen AND NOT source, IsUnlocked AND source, IsLocked AND NOT source)\n",
      "IsLocked False\n",
      "the statement IsLocked is True  , but it needs to be False in order to apply the action CompositeStatement(IsClosed AND source, IsOpen AND NOT source, IsUnlocked AND source, IsLocked AND NOT source)\n",
      "4 2\n",
      "triny to match substatements\n",
      "triny to match substatements\n",
      "triny to match substatements\n",
      "triny to match substatements\n",
      "found a terminal affordance UnlockDoorAffordance\n"
     ]
    }
   ],
   "source": [
    "actions = planner.achieve_goal(goal, door)"
   ]
  },
  {
   "cell_type": "code",
   "execution_count": 27,
   "metadata": {},
   "outputs": [
    {
     "name": "stdout",
     "output_type": "stream",
     "text": [
      "['OpenDoorAffordance', 'UnlockDoorAffordance']\n"
     ]
    }
   ],
   "source": [
    "print([actions.name for actions in actions])"
   ]
  },
  {
   "cell_type": "code",
   "execution_count": 13,
   "metadata": {},
   "outputs": [
    {
     "name": "stdout",
     "output_type": "stream",
     "text": [
      "(<infinipy.statement.CompositeStatement object at 0x0000022A62EF9A50>, True)\n",
      "IsOpen True\n",
      "the statement IsOpen is False  , but it needs to be True in order to apply the action CompositeStatement(IsOpen AND source, IsClosed AND NOT source)\n",
      "IsClosed False\n",
      "the statement IsClosed is True  , but it needs to be False in order to apply the action CompositeStatement(IsOpen AND source, IsClosed AND NOT source)\n",
      "2 2\n",
      "CompositeStatement(IsOpen AND source, IsClosed AND NOT source) CompositeStatement(IsOpen AND source, IsClosed AND NOT source) 2\n",
      "triny to match substatements\n",
      "triny to match substatements\n",
      "triny to match substatements\n",
      "OpenDoorAffordance\n"
     ]
    }
   ],
   "source": [
    "\n",
    "terminal, partial = planner.find_terminal_affordances(goal, door)\n",
    "print(terminal[0][0].name)"
   ]
  },
  {
   "cell_type": "code",
   "execution_count": 14,
   "metadata": {},
   "outputs": [
    {
     "data": {
      "text/plain": [
       "'CompositeStatement(IsOpen AND source, IsClosed AND NOT source)'"
      ]
     },
     "execution_count": 14,
     "metadata": {},
     "output_type": "execute_result"
    }
   ],
   "source": [
    "goal[0].name"
   ]
  },
  {
   "cell_type": "code",
   "execution_count": 15,
   "metadata": {},
   "outputs": [
    {
     "data": {
      "text/plain": [
       "<infinipy.affordance.Affordance at 0x22a62ea3340>"
      ]
     },
     "execution_count": 15,
     "metadata": {},
     "output_type": "execute_result"
    }
   ],
   "source": [
    "terminal[0][0]"
   ]
  },
  {
   "cell_type": "code",
   "execution_count": 16,
   "metadata": {},
   "outputs": [
    {
     "name": "stdout",
     "output_type": "stream",
     "text": [
      "(<infinipy.statement.CompositeStatement object at 0x0000022A62EC5AE0>, True)\n",
      "['CompositeStatement(IsClosed AND source, IsOpen AND NOT source, IsUnlocked AND source, IsLocked AND NOT source)']\n"
     ]
    }
   ],
   "source": [
    "subgoal_name = planner.find_subgoals_for_affordance(terminal[0][0], door)\n",
    "subgoal = (planner.prerequisites[subgoal_name[0]], True)\n",
    "print(subgoal)\n",
    "print(subgoal_name)\n"
   ]
  },
  {
   "cell_type": "code",
   "execution_count": 17,
   "metadata": {},
   "outputs": [
    {
     "name": "stdout",
     "output_type": "stream",
     "text": [
      "IsClosed True\n",
      "removing the statement IsClosed from the goal because it is  True and it needs to be True in order to apply the action CompositeStatement(IsClosed AND source, IsOpen AND NOT source, IsUnlocked AND source, IsLocked AND NOT source)\n",
      "IsOpen False\n",
      "removing the statement IsOpen from the goal because it is  False and it needs to be False in order to apply the action CompositeStatement(IsClosed AND source, IsOpen AND NOT source, IsUnlocked AND source, IsLocked AND NOT source)\n",
      "IsUnlocked True\n",
      "the statement IsUnlocked is False  , but it needs to be True in order to apply the action CompositeStatement(IsClosed AND source, IsOpen AND NOT source, IsUnlocked AND source, IsLocked AND NOT source)\n",
      "IsLocked False\n",
      "the statement IsLocked is True  , but it needs to be False in order to apply the action CompositeStatement(IsClosed AND source, IsOpen AND NOT source, IsUnlocked AND source, IsLocked AND NOT source)\n",
      "4 2\n",
      "triny to match substatements\n",
      "triny to match substatements\n",
      "triny to match substatements\n",
      "triny to match substatements\n",
      "found a terminal affordance UnlockDoorAffordance\n"
     ]
    }
   ],
   "source": [
    "terminal_subplan, partial_subplan = planner.find_terminal_affordances(subgoal, door)\n"
   ]
  },
  {
   "cell_type": "code",
   "execution_count": 18,
   "metadata": {},
   "outputs": [
    {
     "data": {
      "text/plain": [
       "[]"
      ]
     },
     "execution_count": 18,
     "metadata": {},
     "output_type": "execute_result"
    }
   ],
   "source": [
    "partial_subplan"
   ]
  },
  {
   "cell_type": "code",
   "execution_count": 19,
   "metadata": {},
   "outputs": [],
   "source": [
    "true_dict = subgoal[0].force_true(door)"
   ]
  },
  {
   "cell_type": "code",
   "execution_count": 20,
   "metadata": {},
   "outputs": [
    {
     "data": {
      "text/plain": [
       "[{'result': True,\n",
       "  'name': 'CompositeStatement(IsClosed AND source, IsOpen AND NOT source, IsUnlocked AND source, IsLocked AND NOT source)',\n",
       "  'composite_string': 'The statement Door is closed is True. AND NOT The statement Door is open is False. AND The statement Door is unlocked is True. AND NOT The statement Door is locked is False.',\n",
       "  'sub_statements': [{'result': True,\n",
       "    'source': 'Door',\n",
       "    'target': None,\n",
       "    'statement': 'IsClosed',\n",
       "    'stringout': 'The statement Door is closed is True.',\n",
       "    'source_missing': None,\n",
       "    'target_missing': None},\n",
       "   {'result': False,\n",
       "    'source': 'Door',\n",
       "    'target': None,\n",
       "    'statement': 'IsOpen',\n",
       "    'stringout': 'The statement Door is open is False.',\n",
       "    'source_missing': None,\n",
       "    'target_missing': None},\n",
       "   {'result': True,\n",
       "    'source': 'Door',\n",
       "    'target': None,\n",
       "    'statement': 'IsUnlocked',\n",
       "    'stringout': 'The statement Door is unlocked is True.',\n",
       "    'source_missing': None,\n",
       "    'target_missing': None},\n",
       "   {'result': False,\n",
       "    'source': 'Door',\n",
       "    'target': None,\n",
       "    'statement': 'IsLocked',\n",
       "    'stringout': 'The statement Door is locked is False.',\n",
       "    'source_missing': None,\n",
       "    'target_missing': None}]}]"
      ]
     },
     "execution_count": 20,
     "metadata": {},
     "output_type": "execute_result"
    }
   ],
   "source": [
    "true_dict"
   ]
  },
  {
   "cell_type": "code",
   "execution_count": 21,
   "metadata": {},
   "outputs": [
    {
     "data": {
      "text/plain": [
       "[{'result': True,\n",
       "  'name': 'CompositeStatement(IsClosed AND source, IsOpen AND NOT source, IsUnlocked AND source, IsLocked AND NOT source)',\n",
       "  'composite_string': 'The statement Door is closed is True. AND NOT The statement Door is open is False. AND The statement Door is unlocked is True. AND NOT The statement Door is locked is False.',\n",
       "  'sub_statements': [{'result': True,\n",
       "    'source': 'Door',\n",
       "    'target': None,\n",
       "    'statement': 'IsClosed',\n",
       "    'stringout': 'The statement Door is closed is True.',\n",
       "    'source_missing': None,\n",
       "    'target_missing': None},\n",
       "   {'result': False,\n",
       "    'source': 'Door',\n",
       "    'target': None,\n",
       "    'statement': 'IsOpen',\n",
       "    'stringout': 'The statement Door is open is False.',\n",
       "    'source_missing': None,\n",
       "    'target_missing': None},\n",
       "   {'result': True,\n",
       "    'source': 'Door',\n",
       "    'target': None,\n",
       "    'statement': 'IsUnlocked',\n",
       "    'stringout': 'The statement Door is unlocked is True.',\n",
       "    'source_missing': None,\n",
       "    'target_missing': None},\n",
       "   {'result': False,\n",
       "    'source': 'Door',\n",
       "    'target': None,\n",
       "    'statement': 'IsLocked',\n",
       "    'stringout': 'The statement Door is locked is False.',\n",
       "    'source_missing': None,\n",
       "    'target_missing': None}]}]"
      ]
     },
     "execution_count": 21,
     "metadata": {},
     "output_type": "execute_result"
    }
   ],
   "source": [
    "true_dict "
   ]
  },
  {
   "cell_type": "code",
   "execution_count": 22,
   "metadata": {},
   "outputs": [
    {
     "name": "stdout",
     "output_type": "stream",
     "text": [
      "IsClosed True\n",
      "removing the statement IsClosed from the goal because it is  True and it needs to be True in order to apply the action CompositeStatement(IsClosed AND source, IsOpen AND NOT source, IsUnlocked AND source, IsLocked AND NOT source)\n",
      "IsOpen False\n",
      "removing the statement IsOpen from the goal because it is  False and it needs to be False in order to apply the action CompositeStatement(IsClosed AND source, IsOpen AND NOT source, IsUnlocked AND source, IsLocked AND NOT source)\n",
      "IsUnlocked True\n",
      "the statement IsUnlocked is False  , but it needs to be True in order to apply the action CompositeStatement(IsClosed AND source, IsOpen AND NOT source, IsUnlocked AND source, IsLocked AND NOT source)\n",
      "IsLocked False\n",
      "the statement IsLocked is True  , but it needs to be False in order to apply the action CompositeStatement(IsClosed AND source, IsOpen AND NOT source, IsUnlocked AND source, IsLocked AND NOT source)\n",
      "4 2\n",
      "triny to match substatements\n",
      "triny to match substatements\n",
      "triny to match substatements\n",
      "triny to match substatements\n",
      "found a terminal affordance UnlockDoorAffordance\n"
     ]
    }
   ],
   "source": [
    "terminal_subplan, partial_subplan = planner.find_terminal_affordances(subgoal, door)\n"
   ]
  },
  {
   "cell_type": "code",
   "execution_count": null,
   "metadata": {},
   "outputs": [
    {
     "data": {
      "text/plain": [
       "[(<infinipy.statement.Statement at 0x2200daaa1d0>, 'AND', 'source'),\n",
       " (<infinipy.statement.Statement at 0x2200daaa2c0>, 'AND NOT', 'source'),\n",
       " (<infinipy.statement.Statement at 0x2200dfe5210>, 'AND', 'source'),\n",
       " (<infinipy.statement.Statement at 0x2200dfe5240>, 'AND NOT', 'source')]"
      ]
     },
     "execution_count": 24,
     "metadata": {},
     "output_type": "execute_result"
    }
   ],
   "source": [
    "subgoal[0].conditions"
   ]
  },
  {
   "cell_type": "code",
   "execution_count": null,
   "metadata": {},
   "outputs": [],
   "source": []
  }
 ],
 "metadata": {
  "kernelspec": {
   "display_name": "Python 3",
   "language": "python",
   "name": "python3"
  },
  "language_info": {
   "codemirror_mode": {
    "name": "ipython",
    "version": 3
   },
   "file_extension": ".py",
   "mimetype": "text/x-python",
   "name": "python",
   "nbconvert_exporter": "python",
   "pygments_lexer": "ipython3",
   "version": "3.10.6"
  }
 },
 "nbformat": 4,
 "nbformat_minor": 2
}

{
 "cells": [
  {
   "cell_type": "code",
   "execution_count": 1,
   "metadata": {},
   "outputs": [],
   "source": [
    "from infinipy.stateblock import StateBlock\n",
    "from infinipy.statement import Statement, CompositeStatement, RelationalStatement, CompositeRelationalStatement\n",
    "from infinipy.affordance import Affordance\n",
    "from infinipy.transformer import Transformer, CompositeTransformer, RelationalTransformer, CompositeRelationalTransformer\n",
    "import random\n",
    "import time\n",
    "from infinipy.content.statements import bigger_than, equals_to, has_attribute, is_true\n",
    "from infinipy.gridmap import GridMap\n",
    "from typing import List, Tuple, Optional"
   ]
  },
  {
   "cell_type": "code",
   "execution_count": 2,
   "metadata": {},
   "outputs": [],
   "source": [
    "class CharacterBlock(StateBlock):\n",
    "    def __init__(self, *args, can_store=True, can_move=True, can_be_stored=False, can_act=True, can_be_moved=True, **kwargs):\n",
    "        super().__init__(*args, can_store=can_store, can_move=can_move, can_be_stored=can_be_stored, can_act=can_act, can_be_moved=can_be_moved, **kwargs)\n",
    "\n",
    "class FloorBlock(StateBlock):\n",
    "    def __init__(self, *args, can_store=False, can_move=False, can_be_stored=False, can_act=False, can_be_moved=False, **kwargs):\n",
    "        super().__init__(*args, can_store=can_store, can_move=can_move, can_be_stored=can_be_stored, can_act=can_act, can_be_moved=can_be_moved, **kwargs)\n",
    "        self.can_be_walked_on = True\n",
    "class WallBlock(StateBlock):\n",
    "    def __init__(self, *args, can_store=False, can_move=False, can_be_stored=False, can_act=False, can_be_moved=False, **kwargs):\n",
    "        super().__init__(*args, can_store=can_store, can_move=can_move, can_be_stored=can_be_stored, can_act=can_act, can_be_moved=can_be_moved, **kwargs)\n",
    "        \n",
    "class TreasureBlock(StateBlock):\n",
    "    def __init__(self, *args, can_store=False, can_move=False, can_be_stored=True, can_act=False, can_be_moved=False, **kwargs):\n",
    "        super().__init__(*args, can_store=can_store, can_move=can_move, can_be_stored=can_be_stored, can_act=can_act, can_be_moved=can_be_moved, **kwargs)\n",
    "\n",
    "def create_wall(x: int, y: int):\n",
    "    return WallBlock(id=f\"wall_{x}_{y}\", owner_id=\"environment\", name=\"Wall\", position=(x, y, 0),\n",
    "                                       reach=0, hitpoints=100, size=\"medium\", blocks_move=True, blocks_los=True)\n",
    "def create_floor(x: int, y: int):\n",
    "    return FloorBlock(id=f\"floor_{x}_{y}\", owner_id=\"environment\", name=\"Floor\", position=(x, y, 0),\n",
    "                                       reach=0, hitpoints=100, size=\"medium\", blocks_move=False, blocks_los=False)"
   ]
  },
  {
   "cell_type": "code",
   "execution_count": 3,
   "metadata": {},
   "outputs": [],
   "source": [
    "## movement logic \n",
    "def euclidean_distance(source: StateBlock, target: StateBlock) -> bool:\n",
    "    source_position = source.position\n",
    "    target_position = target.position\n",
    "    dx = source_position[0] - target_position[0]\n",
    "    dy = source_position[1] - target_position[1]\n",
    "    distance = (dx**2 + dy**2)**0.5\n",
    "    return distance <= source.reach\n",
    "\n",
    "within_reach_statement = RelationalStatement(\n",
    "    \"Within Reach\",\n",
    "    \"Checks if the target is within reach of the source based on their positions\",\n",
    "    euclidean_distance\n",
    ")\n",
    "has_walk_on_attribute = has_attribute(\"can_be_walked_on\")\n",
    "can_be_walked_on= is_true(\"can_be_walked_on\")\n",
    "\n",
    "def move(source: StateBlock, target: StateBlock):\n",
    "    source.position = target.position\n",
    "\n",
    "movement_transformer = RelationalTransformer(\"Movement Transformation\", move)\n",
    "\n",
    "move_to_affordance = Affordance(\n",
    "    name=\"MoveTo\",\n",
    "    prerequisites=[(has_walk_on_attribute, 'target'),(can_be_walked_on, 'target'),(within_reach_statement, 'source')],\n",
    "    consequences=[(movement_transformer, 'source')]\n",
    ")"
   ]
  },
  {
   "cell_type": "code",
   "execution_count": 4,
   "metadata": {},
   "outputs": [],
   "source": [
    "## pick up logic\n",
    "# #source conditions\n",
    "def has_inventory_space(source: StateBlock):\n",
    "    if len(source.inventory) < source.inventory_size:\n",
    "        return True\n",
    "    return False\n",
    "\n",
    "has_inventory_statement = Statement(\"Has Inventory Space\", list, \"Checks if the source has inventory space\", has_inventory_space)\n",
    "has_inventory_attribute = has_attribute(\"inventory\")\n",
    "\n",
    "can_store = CompositeStatement([(has_inventory_attribute, 'AND'), (has_inventory_statement, 'AND')])\n",
    "#target conditions\n",
    "is_pickable = CompositeStatement([(has_attribute(\"can_be_stored\"), 'AND'), (is_true(\"can_be_stored\"), 'AND')])\n",
    "#effect definition\n",
    "def pick_up(source: StateBlock, target: StateBlock):\n",
    "    source.add_to_inventory(target)\n",
    "\n",
    "pick_up_transformer = RelationalTransformer(\"Pick Up Transformation\", pick_up)\n",
    "\n",
    "pick_up_affordance = Affordance(\n",
    "    name=\"PickUp\",\n",
    "    prerequisites=[(is_pickable, 'target'), (can_store, 'source'),\n",
    "                   (within_reach_statement, 'source')],\n",
    "    consequences=[(pick_up_transformer, 'source')]\n",
    ")\n"
   ]
  },
  {
   "cell_type": "code",
   "execution_count": 5,
   "metadata": {},
   "outputs": [],
   "source": [
    "def display_grid_with_gridmap(grid_map: GridMap):\n",
    "    # Priority order for displaying entities (highest priority first)\n",
    "    entity_priority = [CharacterBlock, TreasureBlock, WallBlock, FloorBlock]\n",
    "\n",
    "    map_size = grid_map.map_size[0]\n",
    "    grid = [[' ' for _ in range(map_size)] for _ in range(map_size)]\n",
    "    \n",
    "    for position, entities in grid_map.entities.items():\n",
    "        x, y, _ = position\n",
    "\n",
    "        # Determine which entity to display based on priority\n",
    "        display_entity = None\n",
    "        for priority_entity in entity_priority:\n",
    "            for entity in entities:\n",
    "                if isinstance(entity, priority_entity):\n",
    "                    display_entity = entity\n",
    "                    break\n",
    "            if display_entity:\n",
    "                break\n",
    "\n",
    "        # Update the grid based on the entity to display\n",
    "        if display_entity:\n",
    "            if isinstance(display_entity, FloorBlock):\n",
    "                grid[y][x] = '.'\n",
    "            elif isinstance(display_entity, WallBlock):\n",
    "                grid[y][x] = '#'\n",
    "            elif isinstance(display_entity, TreasureBlock):\n",
    "                print(\"found a tresure at\", x, y)\n",
    "                grid[y][x] = 'T'\n",
    "            elif isinstance(display_entity, CharacterBlock):\n",
    "                grid[y][x] = 'C'\n",
    "\n",
    "    # Print the grid\n",
    "    for row in grid:\n",
    "        print(' '.join(row))\n",
    "\n",
    "    # Print summary of character inventory\n",
    "    for entity in grid_map.get_all_entities():  # Assuming get_all_entities() is a method to get all entities\n",
    "        if isinstance(entity, CharacterBlock):\n",
    "            print(f\"{entity.name} has {len(entity.inventory)} items in inventory\")\n"
   ]
  },
  {
   "cell_type": "code",
   "execution_count": 6,
   "metadata": {},
   "outputs": [],
   "source": [
    "def create_square_room(size: Tuple[int,int], wall_thickness: int) -> GridMap:\n",
    "    entities = []\n",
    "    #door is top down corner and then up by one\n",
    "    door_position = (size[0]-1,size[1]-2)\n",
    "    vertical_wall_x = int(size[1]/2)\n",
    "    vertical_wall_y = int(size[0] /2)\n",
    "    vertical_wall_door_position = (vertical_wall_y, vertical_wall_x-1)\n",
    "    door_positions = [door_position, vertical_wall_door_position]\n",
    "    for x in range(size[0]):\n",
    "        for y in range(size[1]):\n",
    "\n",
    "            if (x,y) ==  door_position:\n",
    "                entities.append(create_floor(x,y))\n",
    "                print(\"left open for door at: \", (x,y))\n",
    "            elif (x,y) == vertical_wall_door_position:\n",
    "                entities.append(create_floor(x,y))\n",
    "                print(\"left open for door at: \", (x,y))\n",
    "            elif x < wall_thickness or x >= size[0] - wall_thickness or y < wall_thickness or y >= size[1] - wall_thickness:\n",
    "                entities.append(create_wall(x,y))\n",
    "            elif x == vertical_wall_x and y <= vertical_wall_y:\n",
    "                entities.append(create_wall(x,y))\n",
    "            elif y == vertical_wall_y and x <= vertical_wall_x:\n",
    "                entities.append(create_wall(x,y))\n",
    "            else:\n",
    "                entities.append(create_floor(x,y))\n",
    "    return entities"
   ]
  },
  {
   "cell_type": "code",
   "execution_count": 7,
   "metadata": {},
   "outputs": [
    {
     "name": "stdout",
     "output_type": "stream",
     "text": [
      "char0 position (1, 1, 0)\n",
      "floor0 position (1, 2, 0)\n",
      "char0 position (1, 2, 0)\n"
     ]
    }
   ],
   "source": [
    "#test walk affordance outside of gridmap\n",
    "\n",
    "char_0= CharacterBlock(id=\"char0\", owner_id=\"player\", name=\"Character0\", position=(1, 1, 0),\n",
    "                             reach=1, hitpoints=100, size=\"small\", blocks_move=False, \n",
    "                             blocks_los=False, can_store=True, can_move=True, inventory_size=10)\n",
    "\n",
    "floor_0 = create_floor (1,2)\n",
    "print(\"char0 position\", char_0.position)\n",
    "print(\"floor0 position\", floor_0.position)\n",
    "move_to_affordance.apply(source_block=char_0, target_block=floor_0)\n",
    "print(\"char0 position\", char_0.position)"
   ]
  },
  {
   "cell_type": "code",
   "execution_count": 8,
   "metadata": {},
   "outputs": [
    {
     "name": "stdout",
     "output_type": "stream",
     "text": [
      "Printing entities for gridmap: gridmap_2023-11-20 00:35:38\n",
      "Time since creation: 0.0\n",
      "Character1 (1, 1, 0)\n",
      "Printing entities for gridmap: gridmap_2023-11-20 00:35:38\n",
      "Time since creation: 0.0004990100860595703\n",
      "Character1 (1, 1, 0)\n",
      "Treasure1 (1, 2, 0)\n",
      "left open for door at:  (5, 4)\n",
      "left open for door at:  (9, 8)\n",
      "found a tresure at 1 2\n",
      "# # # # # # # # # #\n",
      "# C . . . # . . . #\n",
      "# T . . . # . . . #\n",
      "# . . . . # . . . #\n",
      "# . . . . . . . . #\n",
      "# # # # # # . . . #\n",
      "# . . . . . . . . #\n",
      "# . . . . . . . . #\n",
      "# . . . . . . . . .\n",
      "# # # # # # # # # #\n",
      "Character1 has 0 items in inventory\n",
      "2 [CharacterBlock(id='c9bfd46b-3be0-4d7e-a924-efd5c2648e78', owner_id='player', name='Character1', reach=1, hitpoints=100, size='small', blocks_move=False, blocks_los=False, can_store=True, can_be_stored=False, can_act=True, can_move=True, can_be_moved=True, position=(1, 1, 0), inventory=[], inventory_size=10, stored_in=None), FloorBlock(id='37fa156e-365b-4d67-a9b4-b6b6c0fdc29a', owner_id='environment', name='Floor', reach=0, hitpoints=100, size='medium', blocks_move=False, blocks_los=False, can_store=False, can_be_stored=False, can_act=False, can_move=False, can_be_moved=False, position=(1, 1, 0), inventory=[], inventory_size=10, stored_in=None)]\n",
      "2 [TreasureBlock(id='74683c8f-b94a-4edc-b69f-96dcc3a71e33', owner_id='environment', name='Treasure1', reach=0, hitpoints=10, size='small', blocks_move=False, blocks_los=False, can_store=False, can_be_stored=True, can_act=False, can_move=False, can_be_moved=False, position=(1, 2, 0), inventory=[], inventory_size=0, stored_in=None), FloorBlock(id='813b6497-1ba7-441f-ac91-cb8429e02a32', owner_id='environment', name='Floor', reach=0, hitpoints=100, size='medium', blocks_move=False, blocks_los=False, can_store=False, can_be_stored=False, can_act=False, can_move=False, can_be_moved=False, position=(1, 2, 0), inventory=[], inventory_size=10, stored_in=None)]\n",
      "execute affordance PickUp\n",
      "Target stored in status changed\n",
      "Removing TreasureBlock(id='74683c8f-b94a-4edc-b69f-96dcc3a71e33', owner_id='environment', name='Treasure1', reach=0, hitpoints=10, size='small', blocks_move=False, blocks_los=False, can_store=False, can_be_stored=True, can_act=False, can_move=False, can_be_moved=False, position=(1, 1, 0), inventory=[], inventory_size=0, stored_in=CharacterBlock(id='c9bfd46b-3be0-4d7e-a924-efd5c2648e78', owner_id='player', name='Character1', reach=1, hitpoints=100, size='small', blocks_move=False, blocks_los=False, can_store=True, can_be_stored=False, can_act=True, can_move=True, can_be_moved=True, position=(1, 1, 0), inventory=[...], inventory_size=10, stored_in=None)) from (1, 2, 0)\n",
      "3\n",
      "Character1\n",
      "Floor\n",
      "Treasure1\n",
      "1\n",
      "Floor\n",
      "# # # # # # # # # #\n",
      "# C . . . # . . . #\n",
      "# . . . . # . . . #\n",
      "# . . . . # . . . #\n",
      "# . . . . . . . . #\n",
      "# # # # # # . . . #\n",
      "# . . . . . . . . #\n",
      "# . . . . . . . . #\n",
      "# . . . . . . . . .\n",
      "# # # # # # # # # #\n",
      "Character1 has 1 items in inventory\n",
      "(1, 3, 0)\n",
      "(1, 4, 0)\n",
      "# # # # # # # # # #\n",
      "# C . . . # . . . #\n",
      "# . . . . # . . . #\n",
      "# . . . . # . . . #\n",
      "# C . . . . . . . #\n",
      "# # # # # # . . . #\n",
      "# . . . . . . . . #\n",
      "# . . . . . . . . #\n",
      "# . . . . . . . . .\n",
      "# # # # # # # # # #\n",
      "Character1 has 1 items in inventory\n",
      "Character2 has 1 items in inventory\n"
     ]
    }
   ],
   "source": [
    "#create a gridmap and entities\n",
    "\n",
    "gridmap = GridMap((10,10))\n",
    "char = CharacterBlock(id=\"char1\", owner_id=\"player\", name=\"Character1\", position=(1, 1, 0),\n",
    "                             reach=1, hitpoints=100, size=\"small\", blocks_move=False, \n",
    "                             blocks_los=False, can_store=True, can_move=True, inventory_size=10)\n",
    "treasure1 = TreasureBlock(id=\"treasure_1\", owner_id=\"environment\", name=\"Treasure1\", position=(1, 2, 0),\n",
    "                               reach=0, hitpoints=10, size=\"small\", blocks_move=False, blocks_los=False, can_be_stored=True,inventory_size=0)\n",
    "\n",
    "treasure2 = TreasureBlock(id=\"treasure_2\", owner_id=\"environment\", name=\"Treasure2\", position=(1, 3, 0),\n",
    "                               reach=0, hitpoints=10, size=\"small\", blocks_move=False, blocks_los=False, can_be_stored=True,inventory_size=0)\n",
    "gridmap.add_entity(char,char.position)\n",
    "gridmap.print_entities()\n",
    "gridmap.add_entity(treasure1,treasure1.position)\n",
    "gridmap.print_entities()\n",
    "\n",
    "char2 = CharacterBlock(id=\"char2\", owner_id=\"player\", name=\"Character2\", position=(1, 4, 0),\n",
    "                             reach=1, hitpoints=100, size=\"small\", blocks_move=False, \n",
    "                             blocks_los=False, can_store=True, can_move=True, inventory_size=10)\n",
    "room = create_square_room((10,10),1)\n",
    "for entity in room:\n",
    "    gridmap.add_entity(entity,entity.position)\n",
    "\n",
    "display_grid_with_gridmap(gridmap)\n",
    "print(len(gridmap.entities[(1,1,0)]),gridmap.entities[(1,1,0)])\n",
    "print(len(gridmap.entities[(1,2,0)]),gridmap.entities[(1,2,0)])\n",
    "\n",
    "# gridmap.print_entities()\n",
    "print(\"execute affordance\", pick_up_affordance.name)\n",
    "gridmap.execute_affordance(pick_up_affordance, char, treasure1)\n",
    "print(len(gridmap.entities[(1,1,0)]))\n",
    "for entity in gridmap.entities[(1,1,0)]:\n",
    "    print(entity.name)\n",
    "print(len(gridmap.entities[(1,2,0)]))\n",
    "for entity in gridmap.entities[(1,2,0)]:\n",
    "    print(entity.name)\n",
    "display_grid_with_gridmap(gridmap)\n",
    "print(treasure2.position)\n",
    "pick_up_affordance.apply(char2, treasure2)\n",
    "print(treasure2.position)\n",
    "char2.inventory[0].stored_in\n",
    "gridmap.add_entity(char2,char2.position)\n",
    "display_grid_with_gridmap(gridmap)\n"
   ]
  },
  {
   "cell_type": "code",
   "execution_count": 9,
   "metadata": {},
   "outputs": [
    {
     "name": "stdout",
     "output_type": "stream",
     "text": [
      "FloorBlock(id='813b6497-1ba7-441f-ac91-cb8429e02a32', owner_id='environment', name='Floor', reach=0, hitpoints=100, size='medium', blocks_move=False, blocks_los=False, can_store=False, can_be_stored=False, can_act=False, can_move=False, can_be_moved=False, position=(1, 2, 0), inventory=[], inventory_size=10, stored_in=None)\n",
      "Source position changed\n",
      "Removing CharacterBlock(id='c9bfd46b-3be0-4d7e-a924-efd5c2648e78', owner_id='player', name='Character1', reach=1, hitpoints=100, size='small', blocks_move=False, blocks_los=False, can_store=True, can_be_stored=False, can_act=True, can_move=True, can_be_moved=True, position=(1, 2, 0), inventory=[TreasureBlock(id='74683c8f-b94a-4edc-b69f-96dcc3a71e33', owner_id='environment', name='Treasure1', reach=0, hitpoints=10, size='small', blocks_move=False, blocks_los=False, can_store=False, can_be_stored=True, can_act=False, can_move=False, can_be_moved=False, position=(1, 2, 0), inventory=[], inventory_size=0, stored_in=...)], inventory_size=10, stored_in=None) from (1, 1, 0)\n",
      "Removing TreasureBlock(id='74683c8f-b94a-4edc-b69f-96dcc3a71e33', owner_id='environment', name='Treasure1', reach=0, hitpoints=10, size='small', blocks_move=False, blocks_los=False, can_store=False, can_be_stored=True, can_act=False, can_move=False, can_be_moved=False, position=(1, 2, 0), inventory=[], inventory_size=0, stored_in=CharacterBlock(id='c9bfd46b-3be0-4d7e-a924-efd5c2648e78', owner_id='player', name='Character1', reach=1, hitpoints=100, size='small', blocks_move=False, blocks_los=False, can_store=True, can_be_stored=False, can_act=True, can_move=True, can_be_moved=True, position=(1, 2, 0), inventory=[...], inventory_size=10, stored_in=None)) from (1, 1, 0)\n",
      "# # # # # # # # # #\n",
      "# . . . . # . . . #\n",
      "# C . . . # . . . #\n",
      "# . . . . # . . . #\n",
      "# C . . . . . . . #\n",
      "# # # # # # . . . #\n",
      "# . . . . . . . . #\n",
      "# . . . . . . . . #\n",
      "# . . . . . . . . .\n",
      "# # # # # # # # # #\n",
      "Character1 has 1 items in inventory\n",
      "Character2 has 1 items in inventory\n"
     ]
    }
   ],
   "source": [
    "#apply movment to char 1\n",
    "canwalk, walkable_target = gridmap.affordance_applicable_at_position(move_to_affordance,char,(1,2,0))\n",
    "print(walkable_target)\n",
    "gridmap.execute_affordance(move_to_affordance, char, walkable_target)\n",
    "display_grid_with_gridmap(gridmap)\n"
   ]
  },
  {
   "cell_type": "code",
   "execution_count": 10,
   "metadata": {},
   "outputs": [],
   "source": [
    "def display_grid_with_lightmap(grid_map: GridMap, light_map: list, source: Optional[tuple] = None):\n",
    "    # Priority order for displaying entities (highest priority first)\n",
    "    entity_priority = [CharacterBlock, TreasureBlock, WallBlock, FloorBlock]\n",
    "\n",
    "    map_size = grid_map.map_size[0]\n",
    "    grid = [[' ' for _ in range(map_size)] for _ in range(map_size)]\n",
    "    \n",
    "    for position, entities in grid_map.entities.items():\n",
    "        x, y, _ = position\n",
    "\n",
    "        # Determine which entity to display based on priority\n",
    "        display_entity = None\n",
    "        for priority_entity in entity_priority:\n",
    "            for entity in entities:\n",
    "                if isinstance(entity, priority_entity):\n",
    "                    display_entity = entity\n",
    "                    break\n",
    "            if display_entity:\n",
    "                break\n",
    "\n",
    "        # Update the grid based on the entity to display\n",
    "        if display_entity:\n",
    "            if isinstance(display_entity, FloorBlock):\n",
    "                grid[y][x] = '.'\n",
    "            elif isinstance(display_entity, WallBlock):\n",
    "                grid[y][x] = '#'\n",
    "            elif isinstance(display_entity, TreasureBlock):\n",
    "                print(\"found a tresure at\", x, y)\n",
    "                grid[y][x] = 'T'\n",
    "            elif isinstance(display_entity, CharacterBlock):\n",
    "                grid[y][x] = 'C'\n",
    "    if source is not None:\n",
    "        source = source\n",
    "    else:\n",
    "        source = light_map[0]\n",
    "    x0,y0,z0 = source\n",
    "    grid[y0][x0] = 'X'\n",
    "    for x,y,z in light_map:\n",
    "        if (x,y,z) != source:\n",
    "            grid[y][x] = 'L'\n",
    "    # Print the grid\n",
    "    for row in grid:\n",
    "        print(' '.join(row))\n",
    "\n",
    "    "
   ]
  },
  {
   "cell_type": "code",
   "execution_count": 11,
   "metadata": {},
   "outputs": [
    {
     "name": "stdout",
     "output_type": "stream",
     "text": [
      "[(1, 2, 0), (1, 3, 0), (2, 3, 0), (2, 4, 0), (3, 4, 0), (3, 5, 0)]\n",
      "# # # # # # # # # #\n",
      "# . . . . # . . . #\n",
      "# X . . . # . . . #\n",
      "# L L . . # . . . #\n",
      "# C L L . . . . . #\n",
      "# # # L # # . . . #\n",
      "# . . . . . . . . #\n",
      "# . . . . . . . . #\n",
      "# . . . . . . . . .\n",
      "# # # # # # # # # #\n"
     ]
    }
   ],
   "source": [
    "light=gridmap.cast_light((1,2,0),5,70)\n",
    "print(light)\n",
    "display_grid_with_lightmap(gridmap,light)"
   ]
  },
  {
   "cell_type": "code",
   "execution_count": 12,
   "metadata": {},
   "outputs": [
    {
     "name": "stdout",
     "output_type": "stream",
     "text": [
      "[(1, 2, 0), (1, 3, 0), (1, 4, 0), (2, 4, 0), (2, 5, 0)]\n",
      "# # # # # # # # # #\n",
      "# . . . . # . . . #\n",
      "# X . . . # . . . #\n",
      "# L . . . # . . . #\n",
      "# L L . . . . . . #\n",
      "# # L # # # . . . #\n",
      "# . . . . . . . . #\n",
      "# . . . . . . . . #\n",
      "# . . . . . . . . .\n",
      "# # # # # # # # # #\n"
     ]
    }
   ],
   "source": [
    "line = gridmap.line((1,2,0),(3,8,0))\n",
    "print(line)\n",
    "display_grid_with_lightmap(gridmap,line)"
   ]
  },
  {
   "cell_type": "code",
   "execution_count": 33,
   "metadata": {},
   "outputs": [
    {
     "name": "stdout",
     "output_type": "stream",
     "text": [
      "[(2, 2, 0), (2, 3, 0), (3, 3, 0), (4, 3, 0), (4, 4, 0), (5, 4, 0), (6, 4, 0), (6, 5, 0), (7, 5, 0)]\n",
      "# # # # # # # # # #\n",
      "# . . . . # . . . #\n",
      "# X L . . # . . . #\n",
      "# . L L L # . . . #\n",
      "# C . . L L L . . #\n",
      "# # # # # # L L . #\n",
      "# . . . . . . . . #\n",
      "# . . . . . . . . #\n",
      "# . . . . . . . . .\n",
      "# # # # # # # # # #\n"
     ]
    }
   ],
   "source": [
    "los, line_los = gridmap.line_of_sight((1,2,0),(7,5,0))\n",
    "print(line_los)\n",
    "display_grid_with_lightmap(gridmap,line_los,(1,2,0))"
   ]
  },
  {
   "cell_type": "code",
   "execution_count": 14,
   "metadata": {},
   "outputs": [
    {
     "name": "stdout",
     "output_type": "stream",
     "text": [
      "[(8, 6, 0), (0, 1, 0), (9, 6, 0), (3, 5, 0), (2, 1, 0), (0, 3, 0), (4, 5, 0), (5, 5, 0), (1, 3, 0), (2, 3, 0), (6, 4, 0), (1, 1, 0), (3, 0, 0), (7, 4, 0), (1, 5, 0), (4, 0, 0), (4, 2, 0), (2, 5, 0), (4, 4, 0), (5, 2, 0), (8, 5, 0), (3, 2, 0), (9, 5, 0), (3, 4, 0), (0, 2, 0), (0, 4, 0), (1, 0, 0), (5, 4, 0), (2, 0, 0), (2, 2, 0), (6, 5, 0), (1, 2, 0), (3, 1, 0), (7, 5, 0), (1, 4, 0), (3, 3, 0), (4, 1, 0), (2, 4, 0), (4, 3, 0), (5, 1, 0), (5, 3, 0)]\n",
      "# L L L L # # # # #\n",
      "L L L L L L . . . #\n",
      "L X L L L L . . . #\n",
      "L L L L L L . . . #\n",
      "L L L L L L L L . #\n",
      "# L L L L L L L L L\n",
      "# . . . . . . . L L\n",
      "# . . . . . . . . #\n",
      "# . . . . . . . . .\n",
      "# # # # # # # # # #\n"
     ]
    }
   ],
   "source": [
    "los = gridmap.shadow_casting((1,2,0))\n",
    "print(los)\n",
    "display_grid_with_lightmap(gridmap,los,(1,2,0))"
   ]
  },
  {
   "cell_type": "code",
   "execution_count": 15,
   "metadata": {},
   "outputs": [
    {
     "name": "stdout",
     "output_type": "stream",
     "text": [
      "[(2, 3, 0), (3, 4, 0), (4, 4, 0), (5, 4, 0), (6, 5, 0), (5, 6, 0), (4, 7, 0), (3, 8, 0)]\n",
      "# # # # # # # # # #\n",
      "# . . . . # . . . #\n",
      "# X . . . # . . . #\n",
      "# . L . . # . . . #\n",
      "# C . L L L . . . #\n",
      "# # # # # # L . . #\n",
      "# . . . . L . . . #\n",
      "# . . . L . . . . #\n",
      "# . . L . . . . . .\n",
      "# # # # # # # # # #\n"
     ]
    }
   ],
   "source": [
    "path = gridmap.a_star((1,2,0),(3,8,0))\n",
    "print(path)\n",
    "display_grid_with_lightmap(gridmap,path,(1,2,0))"
   ]
  },
  {
   "cell_type": "code",
   "execution_count": 16,
   "metadata": {},
   "outputs": [
    {
     "name": "stdout",
     "output_type": "stream",
     "text": [
      "[(1, 2, 0), (2, 2, 0), (1, 1, 0), (1, 3, 0), (2, 1, 0), (2, 3, 0), (1, 4, 0), (2, 4, 0), (3, 1, 0), (3, 2, 0), (3, 3, 0), (3, 4, 0), (4, 1, 0), (4, 2, 0), (4, 3, 0), (4, 4, 0), (5, 4, 0), (6, 4, 0), (6, 3, 0), (6, 5, 0), (7, 3, 0), (6, 2, 0), (7, 2, 0), (7, 4, 0), (7, 5, 0), (6, 6, 0), (5, 6, 0), (7, 6, 0)]\n",
      "# # # # # # # # # #\n",
      "# L L L L # . . . #\n",
      "# X L L L # L L . #\n",
      "# L L L L # L L . #\n",
      "# L L L L L L L . #\n",
      "# # # # # # L L . #\n",
      "# . . . . L L L . #\n",
      "# . . . . . . . . #\n",
      "# . . . . . . . . .\n",
      "# # # # # # # # # #\n"
     ]
    }
   ],
   "source": [
    "path = gridmap.dijkstra((1,2,0),5)\n",
    "path = list(path.keys())\n",
    "print(path)\n",
    "display_grid_with_lightmap(gridmap,path)"
   ]
  }
 ],
 "metadata": {
  "kernelspec": {
   "display_name": "Python 3",
   "language": "python",
   "name": "python3"
  },
  "language_info": {
   "codemirror_mode": {
    "name": "ipython",
    "version": 3
   },
   "file_extension": ".py",
   "mimetype": "text/x-python",
   "name": "python",
   "nbconvert_exporter": "python",
   "pygments_lexer": "ipython3",
   "version": "3.10.6"
  }
 },
 "nbformat": 4,
 "nbformat_minor": 2
}

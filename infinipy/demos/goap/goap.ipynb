{
 "cells": [
  {
   "cell_type": "code",
   "execution_count": 1,
   "metadata": {},
   "outputs": [],
   "source": [
    "from infinipy.stateblock import StateBlock\n",
    "import uuid\n",
    "from copy import deepcopy\n",
    "\n",
    "from infinipy.statement import Statement,CompositeStatement\n",
    "\n",
    "from typing import List, Optional, Dict, Any, Union, Tuple\n",
    "from infinipy.options import Option\n",
    "from infinipy.worldstatement import WorldStatement\n",
    "from dataclasses import dataclass, fields\n",
    "from infinipy.actions import Action"
   ]
  },
  {
   "cell_type": "code",
   "execution_count": 2,
   "metadata": {},
   "outputs": [],
   "source": [
    "from infinipy.demos.goap.lockkeydemo import create_demo"
   ]
  },
  {
   "cell_type": "code",
   "execution_count": 6,
   "metadata": {},
   "outputs": [],
   "source": [
    "entities,statements,actions, (starting_state,goal_state) = create_demo()"
   ]
  },
  {
   "cell_type": "code",
   "execution_count": 7,
   "metadata": {},
   "outputs": [
    {
     "name": "stdout",
     "output_type": "stream",
     "text": [
      "Backward solution found: character_pick_key <- character_unlock_door <- character_drop_key <- character_pick_key <- character_lock_door <- character_unlock_door <- character_open_door\n",
      "3\n",
      "Backward solution found: character_pick_key <- character_unlock_door <- character_open_door\n",
      "7\n",
      "Backward solution found: character_pick_key <- character_unlock_door <- character_drop_key <- character_pick_key <- character_open_door\n",
      "5\n",
      "Backward solution found: character_pick_key <- character_unlock_door <- character_drop_key <- character_open_door\n",
      "6\n",
      "Backward solution found: character_pick_key <- character_unlock_door <- character_open_door <- character_lock_door\n",
      "6\n",
      "Backward solution found: character_pick_key <- character_unlock_door <- character_open_door <- character_drop_key <- character_close_door <- character_pick_key <- character_open_door <- character_lock_door\n",
      "2\n",
      "Backward solution found: character_pick_key <- character_unlock_door <- character_drop_key <- character_pick_key <- character_open_door <- character_lock_door\n",
      "4\n",
      "Backward solution found: character_pick_key <- character_unlock_door <- character_drop_key <- character_open_door <- character_pick_key <- character_lock_door\n",
      "4\n",
      "Backward solution found: character_pick_key <- character_unlock_door <- character_open_door <- character_drop_key <- character_pick_key <- character_lock_door\n",
      "4\n",
      "Backward solution found: character_pick_key <- character_unlock_door <- character_drop_key <- character_open_door <- character_pick_key\n",
      "5\n",
      "Backward solution found: character_pick_key <- character_unlock_door <- character_open_door <- character_drop_key\n",
      "6\n",
      "Backward solution found: character_pick_key <- character_unlock_door <- character_open_door <- character_lock_door <- character_drop_key\n",
      "5\n",
      "Backward solution found: character_pick_key <- character_unlock_door <- character_drop_key <- character_open_door <- character_pick_key <- character_lock_door <- character_drop_key\n",
      "3\n",
      "Backward solution found: character_pick_key <- character_unlock_door <- character_open_door <- character_lock_door <- character_unlock_door <- character_drop_key\n",
      "4\n"
     ]
    }
   ],
   "source": [
    "from infinipy.goap import GOAP\n",
    "\n",
    "goap = GOAP (actions)\n",
    "goap.backward_solve(starting_state,goal_state)"
   ]
  },
  {
   "cell_type": "markdown",
   "metadata": {},
   "source": []
  },
  {
   "cell_type": "code",
   "execution_count": null,
   "metadata": {},
   "outputs": [
    {
     "name": "stdout",
     "output_type": "stream",
     "text": [
      "Trying action: character_pick_key\n",
      "Trying action: character_unlock_door\n",
      "Trying action: character_open_door\n",
      "Solution found: character_pick_key -> character_unlock_door -> character_open_door\n"
     ]
    }
   ],
   "source": [
    "goap = GOAP (actions)\n",
    "\n",
    "goap.forward_solve(starting_state,goal_state)"
   ]
  },
  {
   "cell_type": "code",
   "execution_count": null,
   "metadata": {},
   "outputs": [
    {
     "name": "stdout",
     "output_type": "stream",
     "text": [
      "Trying action: character_close_door\n",
      "Trying action: character_open_door\n",
      "Trying action: character_close_door\n",
      "Trying action: character_lock_door\n",
      "Trying action: character_unlock_door\n",
      "Trying action: character_drop_key\n",
      "Trying action: character_pick_key\n",
      "Trying action: character_drop_key\n",
      "Trying action: character_close_door\n",
      "Trying action: character_open_door\n",
      "Trying action: character_pick_key\n",
      "Trying action: character_pick_key\n",
      "Trying action: character_lock_door\n",
      "Trying action: character_unlock_door\n",
      "Trying action: character_drop_key\n",
      "Solution found: character_close_door -> character_lock_door -> character_drop_key\n"
     ]
    }
   ],
   "source": [
    "end_world = goap.terminal_world\n",
    "goap.forward_solve(end_world,starting_state)"
   ]
  },
  {
   "cell_type": "code",
   "execution_count": null,
   "metadata": {},
   "outputs": [
    {
     "name": "stdout",
     "output_type": "stream",
     "text": [
      "Backward solution found: character_close_door <- character_lock_door <- character_drop_key\n",
      "7\n",
      "Backward solution found: character_drop_key <- character_close_door <- character_pick_key <- character_lock_door <- character_drop_key\n",
      "5\n"
     ]
    }
   ],
   "source": [
    "goap.backward_solve(end_world,starting_state)"
   ]
  },
  {
   "cell_type": "markdown",
   "metadata": {},
   "source": []
  }
 ],
 "metadata": {
  "kernelspec": {
   "display_name": "Python 3",
   "language": "python",
   "name": "python3"
  },
  "language_info": {
   "codemirror_mode": {
    "name": "ipython",
    "version": 3
   },
   "file_extension": ".py",
   "mimetype": "text/x-python",
   "name": "python",
   "nbconvert_exporter": "python",
   "pygments_lexer": "ipython3",
   "version": "3.10.6"
  }
 },
 "nbformat": 4,
 "nbformat_minor": 2
}

{
 "cells": [
  {
   "cell_type": "code",
   "execution_count": 1,
   "metadata": {},
   "outputs": [],
   "source": [
    "from infinipy.stateblock import StateBlock\n",
    "import uuid\n",
    "\n",
    "from infinipy.statement import Statement,CompositeStatement\n",
    "from infinipy.transformer import Transformer,CompositeTransformer\n",
    "from infinipy.affordance import Affordance\n",
    "from dataclasses import dataclass, field\n",
    "from typing import List, Optional, Dict, Any, Union, Tuple\n",
    "from infinipy.options import Option\n",
    "from infinipy.worldstatement import WorldStatement"
   ]
  },
  {
   "cell_type": "code",
   "execution_count": 2,
   "metadata": {},
   "outputs": [],
   "source": [
    "#we define multiple entities we avoid the spatial component for now\n",
    "# character \n",
    "# door\n",
    "# key\n",
    "\n",
    "@dataclass\n",
    "class Door(StateBlock):\n",
    "    is_open: bool = False  # Attribute to indicate if the door is open\n",
    "    is_locked: bool = False  # Attribute to indicate if the door is locked\n",
    "    def __init__(self, key_id: str,is_open:bool,is_locked:bool, *args, **kwargs):\n",
    "        super().__init__(*args, **kwargs)\n",
    "        self.key_id = key_id  # Identifier of the key that can open the door\n",
    "        self.is_open = is_open\n",
    "        self.is_locked = is_locked\n",
    "\n",
    "    def __post_init__(self):\n",
    "        super().__post_init__()  # Call the post-init of StateBlock\n",
    "        # Additional initialization can be added here if needed\n",
    "doorkey = StateBlock(\n",
    "    id=str(uuid.uuid4()),\n",
    "    owner_id=\"key_owner\",  # Identifier of the key's owner or location\n",
    "    name=\"Key\",\n",
    "    blocks_move=False,  # A key doesn't block movement\n",
    "    blocks_los=False,  # A key doesn't block line of sight\n",
    "    can_store=True,\n",
    "    can_be_stored=False,\n",
    "    can_act=True,\n",
    "    can_move=False,\n",
    "    can_be_moved=True,\n",
    "    position=(0, 0, 0),  # Position of the key in the environment\n",
    ")\n",
    "\n",
    "door = Door(\n",
    "    id=str(uuid.uuid4()),\n",
    "    owner_id=\"door_owner\",  # Identifier of the door's owner or location\n",
    "    name=\"Door\",\n",
    "    blocks_move=True,  # A closed door blocks movement\n",
    "    blocks_los=False,  # A door doesn't generally block line of sight\n",
    "    can_store=False,\n",
    "    can_be_stored=False,\n",
    "    can_act=False,\n",
    "    can_move=False,\n",
    "    can_be_moved=False,\n",
    "    position=(0, 0, 0),  # Position of the door in the environment\n",
    "    is_open=False,  # Custom attribute indicating if the door is open\n",
    "    is_locked=True,  # Custom attribute indicating if the door is locked\n",
    "    key_id=doorkey.id,  # Custom attribute indicating the key that can open the door\n",
    ")\n",
    "\n",
    "character = StateBlock(\n",
    "    id=str(uuid.uuid4()),\n",
    "    owner_id=\"character_owner\",  # Identifier of the character's owner or location\n",
    "    name=\"Character\",\n",
    "    blocks_move=True,  # A character blocks movement\n",
    "    blocks_los=True,  # A character blocks line of sight\n",
    "    can_store=True,\n",
    "    can_be_stored=False,\n",
    "    can_act=True,\n",
    "    can_move=True,\n",
    "    can_be_moved=False,\n",
    "    position=(0, 0, 0),  # Position of the character in the environment\n",
    ")\n",
    "\n"
   ]
  },
  {
   "cell_type": "code",
   "execution_count": 3,
   "metadata": {},
   "outputs": [],
   "source": [
    "#boolean conditions of the entities \n",
    "\n",
    "def is_open_condition(door: StateBlock):\n",
    "    return door.is_open\n",
    "def is_locked_condition(door: StateBlock):\n",
    "    return door.is_locked\n",
    "\n",
    "def has_key_condition(character: StateBlock):\n",
    "    key_id = doorkey.id\n",
    "    for item in character.inventory:\n",
    "        if item.id == key_id:\n",
    "            return True\n",
    "    return False\n",
    "    \n",
    "\n",
    "def is_pickable(key: StateBlock):\n",
    "    return key.can_be_moved\n",
    "\n",
    "def can_pick(chararacter:StateBlock):\n",
    "    return chararacter.can_store\n",
    "\n",
    "def has_inventory_space(character: StateBlock):\n",
    "    return len(character.inventory) < character.inventory_size\n"
   ]
  },
  {
   "cell_type": "code",
   "execution_count": 4,
   "metadata": {},
   "outputs": [],
   "source": [
    "#statements corresponding\n",
    "\n",
    "statements = {\n",
    "    \"IsOpen\": Statement(\n",
    "    name=\"IsOpen\",\n",
    "    description=\"is open\",\n",
    "    callable=is_open_condition,\n",
    "    usage=\"target\"\n",
    "    ),\n",
    "    \"IsLocked\": Statement(\n",
    "    name=\"IsLocked\",\n",
    "    description=\"is locked\",\n",
    "    callable=is_locked_condition,\n",
    "    usage=\"target\"),\n",
    "    \"HasKey\": Statement(\n",
    "    name=\"HasKey\",\n",
    "    description=\"has key\",\n",
    "    callable=has_key_condition,\n",
    "    usage=\"source\"),\n",
    "    \"IsPickable\": Statement(\n",
    "    name=\"IsPickable\",\n",
    "    description=\"is pickable\",\n",
    "    callable=is_pickable,\n",
    "    usage=\"target\"),\n",
    "    \"CanPick\": Statement(\n",
    "    name=\"CanPick\",\n",
    "    description=\"can pick\",\n",
    "    callable=can_pick,\n",
    "    usage=\"source\"),\n",
    "    \"HasInventorySpace\": Statement(\n",
    "    name=\"HasInventorySpace\",\n",
    "    description=\"has inventory space\",\n",
    "    callable=has_inventory_space,\n",
    "    usage=\"source\"),\n",
    "}"
   ]
  },
  {
   "cell_type": "code",
   "execution_count": 5,
   "metadata": {},
   "outputs": [],
   "source": [
    "from copy import deepcopy"
   ]
  },
  {
   "cell_type": "code",
   "execution_count": 6,
   "metadata": {},
   "outputs": [
    {
     "data": {
      "text/plain": [
       "True"
      ]
     },
     "execution_count": 6,
     "metadata": {},
     "output_type": "execute_result"
    }
   ],
   "source": [
    "statements[\"IsOpen\"]==deepcopy(statements[\"IsOpen\"])"
   ]
  },
  {
   "cell_type": "code",
   "execution_count": 7,
   "metadata": {},
   "outputs": [],
   "source": [
    "from infinipy.actions import Action"
   ]
  },
  {
   "cell_type": "code",
   "execution_count": 8,
   "metadata": {},
   "outputs": [],
   "source": [
    "open_door_action = Action(name= \"character_open_door\",\n",
    "                          prerequisites= [CompositeStatement([(statements[\"IsOpen\"],False), \n",
    "                                                              (statements[\"IsLocked\"],False)])],\n",
    "                          consequences= [CompositeStatement([(statements[\"IsOpen\"],True)])],\n",
    "                          source_block= character,\n",
    "                          target_block= door)\n",
    "\n",
    "close_door_action = Action(name= \"character_close_door\",\n",
    "                            prerequisites= [CompositeStatement([(statements[\"IsOpen\"],True),\n",
    "                                                                 (statements[\"IsLocked\"],False)])],\n",
    "                            consequences= [CompositeStatement([(statements[\"IsOpen\"],False)])],\n",
    "                            source_block= character,\n",
    "                            target_block= door)\n",
    "\n",
    "lock_door_action = Action(name= \"character_lock_door\",\n",
    "                            prerequisites= [CompositeStatement([(statements[\"IsLocked\"],False)]),\n",
    "                                            CompositeStatement([(statements[\"HasKey\"],True)])],\n",
    "                            consequences= [CompositeStatement([(statements[\"IsLocked\"],True)]),],\n",
    "                            source_block= character,\n",
    "                            target_block= door)\n",
    "\n",
    "unlock_door_action = Action(name= \"character_unlock_door\",\n",
    "                            prerequisites= [CompositeStatement([(statements[\"IsLocked\"],True)]),\n",
    "                                            CompositeStatement([(statements[\"HasKey\"],True)])],\n",
    "                            consequences= [CompositeStatement([(statements[\"IsLocked\"],False)])],\n",
    "                            source_block= character,\n",
    "                            target_block= door)\n",
    "pick_key_action = Action(name= \"character_pick_key\",\n",
    "                            prerequisites= [CompositeStatement([(statements[\"HasKey\"],False)])\n",
    "                                            ,CompositeStatement([(statements[\"IsPickable\"],True)]),\n",
    "                                            CompositeStatement([(statements[\"HasInventorySpace\"],True)]),],\n",
    "                            consequences= [CompositeStatement([(statements[\"IsPickable\"],False)]),\n",
    "                                           CompositeStatement([(statements[\"HasKey\"],True)])],\n",
    "                            source_block= character,\n",
    "                            target_block= doorkey)\n",
    "drop_key_action = Action(name= \"character_drop_key\",\n",
    "                            prerequisites= [CompositeStatement([(statements[\"HasKey\"],True)]),\n",
    "                                            CompositeStatement([(statements[\"IsPickable\"],False)])\n",
    "                                            ],\n",
    "                            consequences= [CompositeStatement([(statements[\"IsPickable\"],True)]),\n",
    "                                           CompositeStatement([(statements[\"HasKey\"],False)]),\n",
    "                                           CompositeStatement([(statements[\"HasInventorySpace\"],True)])]\n",
    "                                           ,\n",
    "                                           \n",
    "                            source_block= character,\n",
    "                            target_block= doorkey)\n",
    "actions = [open_door_action,close_door_action,lock_door_action,unlock_door_action,pick_key_action,drop_key_action]\n"
   ]
  },
  {
   "cell_type": "code",
   "execution_count": 9,
   "metadata": {},
   "outputs": [],
   "source": [
    "def get_forward_solution():\n",
    "    option = Option()\n",
    "    option.append(pick_key_action)\n",
    "    option.append(unlock_door_action)\n",
    "    option.append(open_door_action)\n",
    "    return option\n",
    "def get_backward_solution():\n",
    "    backward_option = Option()\n",
    "    backward_option.prepend(open_door_action)\n",
    "    backward_option.prepend(unlock_door_action)\n",
    "    backward_option.prepend(pick_key_action)\n",
    "    return backward_option\n",
    "def print_conditions(cond_dict : dict, with_key = False):\n",
    "    for key,value in cond_dict.items():\n",
    "        if with_key:\n",
    "            print(key)\n",
    "        print(value.name)"
   ]
  },
  {
   "cell_type": "code",
   "execution_count": 10,
   "metadata": {},
   "outputs": [],
   "source": [
    "#starting statements\n",
    "#the door is closed and locked\n",
    "#the key is pickable\n",
    "#the character has inventory space\n",
    "\n",
    "statement_tuples=[(CompositeStatement([(statements[\"IsOpen\"],False), (statements[\"IsLocked\"],True)]),None,door.id),\n",
    "                  (CompositeStatement([(statements[\"IsPickable\"],True)]),None,doorkey.id),\n",
    "                  (CompositeStatement([(statements[\"HasInventorySpace\"],True)]),character.id,None),\n",
    "                  (CompositeStatement([(statements[\"HasKey\"],False)]),character.id,None)]\n",
    "starting_state = WorldStatement(statement_tuples)\n",
    "goal = CompositeStatement([(statements[\"IsOpen\"],True),])\n",
    "goal_state = WorldStatement([(goal,None,door.id)])"
   ]
  },
  {
   "cell_type": "code",
   "execution_count": 11,
   "metadata": {},
   "outputs": [
    {
     "data": {
      "text/plain": [
       "[Action(name=character_open_door, prerequisites=<infinipy.statement.CompositeStatement object at 0x00000117F52919C0>, consequences=<infinipy.statement.CompositeStatement object at 0x00000117F5293C70>, source_block=StateBlock(id='9278347b-cdb1-4da3-b584-ec507d83c30e', owner_id='character_owner', name='Character', blocks_move=True, blocks_los=True, can_store=True, can_be_stored=False, can_act=True, can_move=True, can_be_moved=False, position=(0, 0, 0), inventory=[], inventory_size=10, stored_in=None), target_block=Door(id='dc9b1309-02d1-4c14-870f-457922bc1431', owner_id='door_owner', name='Door', blocks_move=True, blocks_los=False, can_store=False, can_be_stored=False, can_act=False, can_move=False, can_be_moved=False, position=(0, 0, 0), inventory=[], inventory_size=10, stored_in=None, is_open=False, is_locked=True)),\n",
       " Action(name=character_lock_door, prerequisites=<infinipy.statement.CompositeStatement object at 0x00000117F5293EB0>, consequences=<infinipy.statement.CompositeStatement object at 0x00000117F52C7400>, source_block=StateBlock(id='9278347b-cdb1-4da3-b584-ec507d83c30e', owner_id='character_owner', name='Character', blocks_move=True, blocks_los=True, can_store=True, can_be_stored=False, can_act=True, can_move=True, can_be_moved=False, position=(0, 0, 0), inventory=[], inventory_size=10, stored_in=None), target_block=Door(id='dc9b1309-02d1-4c14-870f-457922bc1431', owner_id='door_owner', name='Door', blocks_move=True, blocks_los=False, can_store=False, can_be_stored=False, can_act=False, can_move=False, can_be_moved=False, position=(0, 0, 0), inventory=[], inventory_size=10, stored_in=None, is_open=False, is_locked=True)),\n",
       " Action(name=character_unlock_door, prerequisites=<infinipy.statement.CompositeStatement object at 0x00000117F52C5360>, consequences=<infinipy.statement.CompositeStatement object at 0x00000117F52C59F0>, source_block=StateBlock(id='9278347b-cdb1-4da3-b584-ec507d83c30e', owner_id='character_owner', name='Character', blocks_move=True, blocks_los=True, can_store=True, can_be_stored=False, can_act=True, can_move=True, can_be_moved=False, position=(0, 0, 0), inventory=[], inventory_size=10, stored_in=None), target_block=Door(id='dc9b1309-02d1-4c14-870f-457922bc1431', owner_id='door_owner', name='Door', blocks_move=True, blocks_los=False, can_store=False, can_be_stored=False, can_act=False, can_move=False, can_be_moved=False, position=(0, 0, 0), inventory=[], inventory_size=10, stored_in=None, is_open=False, is_locked=True)),\n",
       " Action(name=character_pick_key, prerequisites=<infinipy.statement.CompositeStatement object at 0x00000117F52C5060>, consequences=<infinipy.statement.CompositeStatement object at 0x00000117F52C5150>, source_block=StateBlock(id='9278347b-cdb1-4da3-b584-ec507d83c30e', owner_id='character_owner', name='Character', blocks_move=True, blocks_los=True, can_store=True, can_be_stored=False, can_act=True, can_move=True, can_be_moved=False, position=(0, 0, 0), inventory=[], inventory_size=10, stored_in=None), target_block=StateBlock(id='5e2d9efb-8e53-4c1a-a524-196482f5b383', owner_id='key_owner', name='Key', blocks_move=False, blocks_los=False, can_store=True, can_be_stored=False, can_act=True, can_move=False, can_be_moved=True, position=(0, 0, 0), inventory=[], inventory_size=10, stored_in=None)),\n",
       " Action(name=character_drop_key, prerequisites=<infinipy.statement.CompositeStatement object at 0x00000117F52C72B0>, consequences=<infinipy.statement.CompositeStatement object at 0x00000117F52C5210>, source_block=StateBlock(id='9278347b-cdb1-4da3-b584-ec507d83c30e', owner_id='character_owner', name='Character', blocks_move=True, blocks_los=True, can_store=True, can_be_stored=False, can_act=True, can_move=True, can_be_moved=False, position=(0, 0, 0), inventory=[], inventory_size=10, stored_in=None), target_block=StateBlock(id='5e2d9efb-8e53-4c1a-a524-196482f5b383', owner_id='key_owner', name='Key', blocks_move=False, blocks_los=False, can_store=True, can_be_stored=False, can_act=True, can_move=False, can_be_moved=True, position=(0, 0, 0), inventory=[], inventory_size=10, stored_in=None))]"
      ]
     },
     "execution_count": 11,
     "metadata": {},
     "output_type": "execute_result"
    }
   ],
   "source": [
    "goal_state.available_actions(actions,reverse=True)"
   ]
  },
  {
   "cell_type": "code",
   "execution_count": 12,
   "metadata": {},
   "outputs": [
    {
     "name": "stdout",
     "output_type": "stream",
     "text": [
      "Backward solution found: character_pick_key <- character_unlock_door <- character_drop_key <- character_pick_key <- character_lock_door <- character_unlock_door <- character_open_door\n",
      "3\n",
      "Backward solution found: character_pick_key <- character_unlock_door <- character_open_door\n",
      "7\n",
      "Backward solution found: character_pick_key <- character_unlock_door <- character_drop_key <- character_pick_key <- character_open_door\n",
      "5\n",
      "Backward solution found: character_pick_key <- character_unlock_door <- character_drop_key <- character_open_door\n",
      "6\n",
      "Backward solution found: character_pick_key <- character_unlock_door <- character_open_door <- character_lock_door\n",
      "6\n",
      "Backward solution found: character_pick_key <- character_unlock_door <- character_open_door <- character_drop_key <- character_close_door <- character_pick_key <- character_open_door <- character_lock_door\n",
      "2\n",
      "Backward solution found: character_pick_key <- character_unlock_door <- character_drop_key <- character_pick_key <- character_open_door <- character_lock_door\n",
      "4\n",
      "Backward solution found: character_pick_key <- character_unlock_door <- character_drop_key <- character_open_door <- character_pick_key <- character_lock_door\n",
      "4\n",
      "Backward solution found: character_pick_key <- character_unlock_door <- character_open_door <- character_drop_key <- character_pick_key <- character_lock_door\n",
      "4\n",
      "Backward solution found: character_pick_key <- character_unlock_door <- character_drop_key <- character_open_door <- character_pick_key\n",
      "5\n",
      "Backward solution found: character_pick_key <- character_unlock_door <- character_open_door <- character_drop_key\n",
      "6\n",
      "Backward solution found: character_pick_key <- character_unlock_door <- character_open_door <- character_lock_door <- character_drop_key\n",
      "5\n",
      "Backward solution found: character_pick_key <- character_unlock_door <- character_drop_key <- character_open_door <- character_pick_key <- character_lock_door <- character_drop_key\n",
      "3\n",
      "Backward solution found: character_pick_key <- character_unlock_door <- character_open_door <- character_lock_door <- character_unlock_door <- character_drop_key\n",
      "4\n"
     ]
    }
   ],
   "source": [
    "from infinipy.goap import GOAP\n",
    "# actions_out = goal_state.available_actions(actions, reverse=True)\n",
    "# for action in actions_out:\n",
    "#     print(action.name)\n",
    "goap = GOAP (actions)\n",
    "goap.backward_solve(starting_state,goal_state)"
   ]
  },
  {
   "cell_type": "markdown",
   "metadata": {},
   "source": []
  },
  {
   "cell_type": "code",
   "execution_count": 13,
   "metadata": {},
   "outputs": [
    {
     "name": "stdout",
     "output_type": "stream",
     "text": [
      "Trying action: character_pick_key\n",
      "Trying action: character_unlock_door\n",
      "Trying action: character_open_door\n",
      "Solution found: character_pick_key -> character_unlock_door -> character_open_door\n"
     ]
    }
   ],
   "source": [
    "goap = GOAP (actions)\n",
    "\n",
    "goap.forward_solve(starting_state,goal_state)"
   ]
  },
  {
   "cell_type": "code",
   "execution_count": 14,
   "metadata": {},
   "outputs": [
    {
     "name": "stdout",
     "output_type": "stream",
     "text": [
      "Trying action: character_close_door\n",
      "Trying action: character_open_door\n",
      "Trying action: character_close_door\n",
      "Trying action: character_lock_door\n",
      "Trying action: character_unlock_door\n",
      "Trying action: character_drop_key\n",
      "Trying action: character_pick_key\n",
      "Trying action: character_drop_key\n",
      "Trying action: character_close_door\n",
      "Trying action: character_open_door\n",
      "Trying action: character_pick_key\n",
      "Trying action: character_pick_key\n",
      "Trying action: character_lock_door\n",
      "Trying action: character_unlock_door\n",
      "Trying action: character_drop_key\n",
      "Solution found: character_close_door -> character_lock_door -> character_drop_key\n"
     ]
    }
   ],
   "source": [
    "end_world = goap.terminal_world\n",
    "goap.forward_solve(end_world,starting_state)"
   ]
  },
  {
   "cell_type": "code",
   "execution_count": 16,
   "metadata": {},
   "outputs": [
    {
     "name": "stdout",
     "output_type": "stream",
     "text": [
      "Backward solution found: character_close_door <- character_lock_door <- character_drop_key\n",
      "7\n",
      "Backward solution found: character_drop_key <- character_close_door <- character_pick_key <- character_lock_door <- character_drop_key\n",
      "5\n"
     ]
    }
   ],
   "source": [
    "goap.backward_solve(end_world,starting_state)"
   ]
  },
  {
   "cell_type": "markdown",
   "metadata": {},
   "source": []
  }
 ],
 "metadata": {
  "kernelspec": {
   "display_name": "Python 3",
   "language": "python",
   "name": "python3"
  },
  "language_info": {
   "codemirror_mode": {
    "name": "ipython",
    "version": 3
   },
   "file_extension": ".py",
   "mimetype": "text/x-python",
   "name": "python",
   "nbconvert_exporter": "python",
   "pygments_lexer": "ipython3",
   "version": "3.10.6"
  }
 },
 "nbformat": 4,
 "nbformat_minor": 2
}

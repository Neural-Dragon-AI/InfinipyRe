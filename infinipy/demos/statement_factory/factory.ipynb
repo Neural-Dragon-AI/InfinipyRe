{
 "cells": [
  {
   "cell_type": "code",
   "execution_count": 1,
   "metadata": {},
   "outputs": [],
   "source": [
    "from infinipy.stateblock import StateBlock\n",
    "from infinipy.statement_factory import StatementFactory\n",
    "import uuid\n",
    "from infinipy.worldstatement import WorldStatement\n"
   ]
  },
  {
   "cell_type": "code",
   "execution_count": 2,
   "metadata": {},
   "outputs": [],
   "source": [
    "character = StateBlock(\n",
    "    id=str(uuid.uuid4()),\n",
    "    owner_id=\"character_owner\",  # Identifier of the character's owner or location\n",
    "    name=\"Character\",\n",
    "    blocks_move=True,  # A character blocks movement\n",
    "    blocks_los=True,  # A character blocks line of sight\n",
    "    can_store=True,\n",
    "    can_be_stored=False,\n",
    "    can_act=True,\n",
    "    can_move=True,\n",
    "    can_be_moved=False,\n",
    "    position=(0, 0),  # Position of the character in the environment\n",
    ")"
   ]
  },
  {
   "cell_type": "code",
   "execution_count": 3,
   "metadata": {},
   "outputs": [],
   "source": [
    "from infinipy.statement import Statement\n",
    "from infinipy.gridstatement import GridStatement"
   ]
  },
  {
   "cell_type": "code",
   "execution_count": 4,
   "metadata": {},
   "outputs": [
    {
     "data": {
      "text/plain": [
       "set()"
      ]
     },
     "execution_count": 4,
     "metadata": {},
     "output_type": "execute_result"
    }
   ],
   "source": [
    "Statement.get_name_registry()"
   ]
  },
  {
   "cell_type": "code",
   "execution_count": 5,
   "metadata": {},
   "outputs": [
    {
     "data": {
      "text/plain": [
       "True"
      ]
     },
     "execution_count": 5,
     "metadata": {},
     "output_type": "execute_result"
    }
   ],
   "source": [
    "character.can_act"
   ]
  },
  {
   "cell_type": "code",
   "execution_count": 6,
   "metadata": {},
   "outputs": [],
   "source": [
    "factory = StatementFactory(grid_size=(2,2))"
   ]
  },
  {
   "cell_type": "code",
   "execution_count": 7,
   "metadata": {},
   "outputs": [],
   "source": [
    "factory.add_entity(character)\n",
    "reglist = factory.registry_to_list()\n",
    "spatial_dict = factory.get_composite_spatial_statements()\n",
    "statement_registry = factory.get_statement_registry()\n",
    "nw = WorldStatement(reglist)"
   ]
  },
  {
   "cell_type": "code",
   "execution_count": 8,
   "metadata": {},
   "outputs": [
    {
     "name": "stdout",
     "output_type": "stream",
     "text": [
      "blocks_move_is_true blocks_move_is_true_target\n",
      "blocks_los_is_true blocks_los_is_true_target\n",
      "can_store_is_true can_store_is_true_target\n",
      "can_be_stored_is_true can_be_stored_is_true_target\n",
      "can_act_is_true can_act_is_true_target\n",
      "can_move_is_true can_move_is_true_target\n",
      "can_be_moved_is_true can_be_moved_is_true_target\n"
     ]
    }
   ],
   "source": [
    "for key,value in statement_registry.items():\n",
    "    print(key,value.name)"
   ]
  },
  {
   "cell_type": "code",
   "execution_count": 9,
   "metadata": {},
   "outputs": [
    {
     "data": {
      "text/plain": [
       "{'blocks_los_is_true_source',\n",
       " 'blocks_los_is_true_target',\n",
       " 'blocks_move_is_true_source',\n",
       " 'blocks_move_is_true_target',\n",
       " 'can_act_is_true_source',\n",
       " 'can_act_is_true_target',\n",
       " 'can_be_moved_is_true_source',\n",
       " 'can_be_moved_is_true_target',\n",
       " 'can_be_stored_is_true_source',\n",
       " 'can_be_stored_is_true_target',\n",
       " 'can_move_is_true_source',\n",
       " 'can_move_is_true_target',\n",
       " 'can_store_is_true_source',\n",
       " 'can_store_is_true_target',\n",
       " 'position_at_(0, 0)_source',\n",
       " 'position_at_(0, 0)_target',\n",
       " 'position_at_(0, 1)_source',\n",
       " 'position_at_(0, 1)_target',\n",
       " 'position_at_(1, 0)_source',\n",
       " 'position_at_(1, 0)_target',\n",
       " 'position_at_(1, 1)_source',\n",
       " 'position_at_(1, 1)_target'}"
      ]
     },
     "execution_count": 9,
     "metadata": {},
     "output_type": "execute_result"
    }
   ],
   "source": [
    "Statement.get_name_registry()"
   ]
  },
  {
   "cell_type": "code",
   "execution_count": 10,
   "metadata": {},
   "outputs": [],
   "source": [
    "grid = GridStatement(nw,spatial_dict,statement_registry)"
   ]
  },
  {
   "cell_type": "code",
   "execution_count": 11,
   "metadata": {},
   "outputs": [
    {
     "name": "stdout",
     "output_type": "stream",
     "text": [
      "[<infinipy.statement.CompositeStatement object at 0x00000280A3731C00>]\n"
     ]
    },
    {
     "data": {
      "text/plain": [
       "{(0, 0): False, (0, 1): True, (1, 0): True, (1, 1): True}"
      ]
     },
     "execution_count": 11,
     "metadata": {},
     "output_type": "execute_result"
    }
   ],
   "source": [
    "grid.create_los_dict()"
   ]
  },
  {
   "cell_type": "code",
   "execution_count": null,
   "metadata": {},
   "outputs": [],
   "source": [
    "grid.create_move_dict()"
   ]
  },
  {
   "cell_type": "code",
   "execution_count": 12,
   "metadata": {},
   "outputs": [
    {
     "data": {
      "text/plain": [
       "{(0, 0): [(None, '3f6020a1-8177-4d32-bfa4-5264e16e4f03')]}"
      ]
     },
     "execution_count": 12,
     "metadata": {},
     "output_type": "execute_result"
    }
   ],
   "source": [
    "grid.position_dict"
   ]
  },
  {
   "cell_type": "code",
   "execution_count": 13,
   "metadata": {},
   "outputs": [
    {
     "ename": "NameError",
     "evalue": "name 'g' is not defined",
     "output_type": "error",
     "traceback": [
      "\u001b[1;31m---------------------------------------------------------------------------\u001b[0m",
      "\u001b[1;31mNameError\u001b[0m                                 Traceback (most recent call last)",
      "Cell \u001b[1;32mIn[13], line 1\u001b[0m\n\u001b[1;32m----> 1\u001b[0m \u001b[43mg\u001b[49m\n",
      "\u001b[1;31mNameError\u001b[0m: name 'g' is not defined"
     ]
    }
   ],
   "source": [
    "g"
   ]
  },
  {
   "cell_type": "code",
   "execution_count": null,
   "metadata": {},
   "outputs": [
    {
     "ename": "NameError",
     "evalue": "name 'a' is not defined",
     "output_type": "error",
     "traceback": [
      "\u001b[1;31m---------------------------------------------------------------------------\u001b[0m",
      "\u001b[1;31mNameError\u001b[0m                                 Traceback (most recent call last)",
      "Cell \u001b[1;32mIn[13], line 1\u001b[0m\n\u001b[1;32m----> 1\u001b[0m \u001b[43ma\u001b[49m\n",
      "\u001b[1;31mNameError\u001b[0m: name 'a' is not defined"
     ]
    }
   ],
   "source": [
    "a"
   ]
  },
  {
   "cell_type": "code",
   "execution_count": null,
   "metadata": {},
   "outputs": [
    {
     "data": {
      "text/plain": [
       "{'blocks_los_is_true_source',\n",
       " 'blocks_los_is_true_target',\n",
       " 'blocks_move_is_true_source',\n",
       " 'blocks_move_is_true_target',\n",
       " 'can_act_is_true_source',\n",
       " 'can_act_is_true_target',\n",
       " 'can_be_moved_is_true_source',\n",
       " 'can_be_moved_is_true_target',\n",
       " 'can_be_stored_is_true_source',\n",
       " 'can_be_stored_is_true_target',\n",
       " 'can_move_is_true_source',\n",
       " 'can_move_is_true_target',\n",
       " 'can_store_is_true_source',\n",
       " 'can_store_is_true_target',\n",
       " 'position_at_(0, 0)_source',\n",
       " 'position_at_(0, 0)_target',\n",
       " 'position_at_(0, 1)_source',\n",
       " 'position_at_(0, 1)_target',\n",
       " 'position_at_(1, 0)_source',\n",
       " 'position_at_(1, 0)_target',\n",
       " 'position_at_(1, 1)_source',\n",
       " 'position_at_(1, 1)_target'}"
      ]
     },
     "execution_count": 8,
     "metadata": {},
     "output_type": "execute_result"
    }
   ],
   "source": [
    "Statement.get_name_registry()"
   ]
  },
  {
   "cell_type": "code",
   "execution_count": null,
   "metadata": {},
   "outputs": [],
   "source": []
  },
  {
   "cell_type": "code",
   "execution_count": null,
   "metadata": {},
   "outputs": [
    {
     "ename": "NameError",
     "evalue": "name 'value' is not defined",
     "output_type": "error",
     "traceback": [
      "\u001b[1;31m---------------------------------------------------------------------------\u001b[0m",
      "\u001b[1;31mNameError\u001b[0m                                 Traceback (most recent call last)",
      "Cell \u001b[1;32mIn[10], line 1\u001b[0m\n\u001b[1;32m----> 1\u001b[0m reglist[\u001b[38;5;241m0\u001b[39m][\u001b[38;5;241m0\u001b[39m]\u001b[38;5;241m.\u001b[39mvalidates(\u001b[43mvalue\u001b[49m)\n",
      "\u001b[1;31mNameError\u001b[0m: name 'value' is not defined"
     ]
    }
   ],
   "source": [
    "reglist[0][0].validates(value)"
   ]
  },
  {
   "cell_type": "code",
   "execution_count": null,
   "metadata": {},
   "outputs": [
    {
     "name": "stdout",
     "output_type": "stream",
     "text": [
      "(0, 0) CompositeStatement(position_at_(0, 0)_target True)\n",
      "(0, 1) CompositeStatement(position_at_(0, 1)_target True)\n",
      "(1, 0) CompositeStatement(position_at_(1, 0)_target True)\n",
      "(1, 1) CompositeStatement(position_at_(1, 1)_target True)\n"
     ]
    }
   ],
   "source": [
    "spatial = factory.get_composite_spatial_statements()\n",
    "for key,value in spatial.items():\n",
    "    print(key,value.name)"
   ]
  },
  {
   "cell_type": "code",
   "execution_count": null,
   "metadata": {},
   "outputs": [],
   "source": [
    "nw = WorldStatement(reglist)"
   ]
  },
  {
   "cell_type": "code",
   "execution_count": null,
   "metadata": {},
   "outputs": [
    {
     "name": "stdout",
     "output_type": "stream",
     "text": [
      "('be3027a0-1008-44d2-b1b5-5f70db419468', None): CompositeStatement(can_be_moved_is_true_source False, position_at_(1, 1)_source False, can_act_is_true_source True, position_at_(1, 0)_source False, blocks_los_is_true_source True, can_be_stored_is_true_source False, can_move_is_true_source True, blocks_move_is_true_source True, position_at_(0, 0)_source True, position_at_(0, 1)_source False, can_store_is_true_source True)\n",
      "(None, 'be3027a0-1008-44d2-b1b5-5f70db419468'): CompositeStatement(can_move_is_true_target True, position_at_(1, 1)_target False, can_be_stored_is_true_target False, can_be_moved_is_true_target False, blocks_los_is_true_target True, can_act_is_true_target True, position_at_(0, 1)_target False, position_at_(1, 0)_target False, can_store_is_true_target True, blocks_move_is_true_target True, position_at_(0, 0)_target True)\n"
     ]
    }
   ],
   "source": [
    "nw.print_conditions()"
   ]
  },
  {
   "cell_type": "code",
   "execution_count": null,
   "metadata": {},
   "outputs": [
    {
     "data": {
      "text/plain": [
       "[(<infinipy.statement.CompositeStatement at 0x1b567013b50>,\n",
       "  'be3027a0-1008-44d2-b1b5-5f70db419468',\n",
       "  'be3027a0-1008-44d2-b1b5-5f70db419468')]"
      ]
     },
     "execution_count": 10,
     "metadata": {},
     "output_type": "execute_result"
    }
   ],
   "source": [
    "reglist"
   ]
  },
  {
   "cell_type": "code",
   "execution_count": null,
   "metadata": {},
   "outputs": [
    {
     "ename": "NameError",
     "evalue": "name 'a' is not defined",
     "output_type": "error",
     "traceback": [
      "\u001b[1;31m---------------------------------------------------------------------------\u001b[0m",
      "\u001b[1;31mNameError\u001b[0m                                 Traceback (most recent call last)",
      "Cell \u001b[1;32mIn[11], line 1\u001b[0m\n\u001b[1;32m----> 1\u001b[0m \u001b[43ma\u001b[49m\n",
      "\u001b[1;31mNameError\u001b[0m: name 'a' is not defined"
     ]
    }
   ],
   "source": [
    "a"
   ]
  },
  {
   "cell_type": "code",
   "execution_count": null,
   "metadata": {},
   "outputs": [
    {
     "data": {
      "text/plain": [
       "{'9693e6bc-6f45-4442-be7e-00281a9ec646': <infinipy.statement.CompositeStatement at 0x1e689218880>}"
      ]
     },
     "execution_count": 7,
     "metadata": {},
     "output_type": "execute_result"
    }
   ],
   "source": [
    "factory.entity_registry"
   ]
  },
  {
   "cell_type": "code",
   "execution_count": null,
   "metadata": {},
   "outputs": [
    {
     "ename": "NameError",
     "evalue": "name 'a' is not defined",
     "output_type": "error",
     "traceback": [
      "\u001b[1;31m---------------------------------------------------------------------------\u001b[0m",
      "\u001b[1;31mNameError\u001b[0m                                 Traceback (most recent call last)",
      "Cell \u001b[1;32mIn[6], line 1\u001b[0m\n\u001b[1;32m----> 1\u001b[0m \u001b[43ma\u001b[49m\n",
      "\u001b[1;31mNameError\u001b[0m: name 'a' is not defined"
     ]
    }
   ],
   "source": [
    "a"
   ]
  },
  {
   "cell_type": "code",
   "execution_count": null,
   "metadata": {},
   "outputs": [],
   "source": [
    "# outs = factory.generate_bool_statements_for_stateblock(character)\n",
    "# for out,value in outs:\n",
    "#     print(out.name,value)"
   ]
  },
  {
   "cell_type": "code",
   "execution_count": null,
   "metadata": {},
   "outputs": [],
   "source": [
    "# len(set(outs))"
   ]
  },
  {
   "cell_type": "code",
   "execution_count": null,
   "metadata": {},
   "outputs": [
    {
     "name": "stdout",
     "output_type": "stream",
     "text": [
      "22\n"
     ]
    }
   ],
   "source": [
    "composite = factory.create_composite_statement(character)"
   ]
  },
  {
   "cell_type": "code",
   "execution_count": null,
   "metadata": {},
   "outputs": [
    {
     "name": "stdout",
     "output_type": "stream",
     "text": [
      "blocks_move_is_true_target True\n",
      "can_move_is_true_source True\n",
      "position_at_(0, 0)_source True\n",
      "can_act_is_true_target True\n",
      "can_store_is_true_target True\n",
      "can_act_is_true_source True\n",
      "position_at_(0, 0)_target True\n",
      "can_be_stored_is_true_source False\n",
      "position_at_(1, 0)_target False\n",
      "can_be_moved_is_true_source False\n",
      "can_store_is_true_source True\n",
      "position_at_(0, 1)_source False\n",
      "position_at_(1, 0)_source False\n",
      "blocks_move_is_true_source True\n",
      "position_at_(1, 1)_target False\n",
      "can_be_moved_is_true_target False\n",
      "position_at_(0, 1)_target False\n",
      "blocks_los_is_true_source True\n",
      "can_move_is_true_target True\n",
      "can_be_stored_is_true_target False\n",
      "blocks_los_is_true_target True\n",
      "position_at_(1, 1)_source False\n"
     ]
    }
   ],
   "source": [
    "composite.name\n",
    "for substatements, value in composite.substatements:\n",
    "    print(substatements.name,value)"
   ]
  },
  {
   "cell_type": "code",
   "execution_count": null,
   "metadata": {},
   "outputs": [
    {
     "ename": "NameError",
     "evalue": "name 'outs' is not defined",
     "output_type": "error",
     "traceback": [
      "\u001b[1;31m---------------------------------------------------------------------------\u001b[0m",
      "\u001b[1;31mNameError\u001b[0m                                 Traceback (most recent call last)",
      "Cell \u001b[1;32mIn[9], line 1\u001b[0m\n\u001b[1;32m----> 1\u001b[0m \u001b[38;5;28mlen\u001b[39m(\u001b[43mouts\u001b[49m)\n",
      "\u001b[1;31mNameError\u001b[0m: name 'outs' is not defined"
     ]
    }
   ],
   "source": [
    "len(outs)"
   ]
  },
  {
   "cell_type": "code",
   "execution_count": null,
   "metadata": {},
   "outputs": [],
   "source": []
  }
 ],
 "metadata": {
  "kernelspec": {
   "display_name": "Python 3",
   "language": "python",
   "name": "python3"
  },
  "language_info": {
   "codemirror_mode": {
    "name": "ipython",
    "version": 3
   },
   "file_extension": ".py",
   "mimetype": "text/x-python",
   "name": "python",
   "nbconvert_exporter": "python",
   "pygments_lexer": "ipython3",
   "version": "3.10.6"
  }
 },
 "nbformat": 4,
 "nbformat_minor": 2
}

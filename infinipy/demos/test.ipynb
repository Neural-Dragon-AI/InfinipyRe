{
 "cells": [
  {
   "cell_type": "code",
   "execution_count": 1,
   "metadata": {},
   "outputs": [],
   "source": [
    "from stateblock import StateBlock\n",
    "from statement import Statement, CompositeStatement, RelationalStatement, CompositeRelationalStatement\n",
    "from transformer import Transformer, CompositeTransformer, RelationalTransformer\n",
    "from statement import bigger_than,equals_to\n",
    "from affordance import Affordance"
   ]
  },
  {
   "cell_type": "code",
   "execution_count": 2,
   "metadata": {},
   "outputs": [
    {
     "name": "stdout",
     "output_type": "stream",
     "text": [
      "StateBlock: test\n",
      "  - HP: 10\n",
      "  - Position: (0, 0)\n",
      "  - Size: large\n",
      "\n"
     ]
    }
   ],
   "source": [
    "# Step 1: Setup\n",
    "import uuid\n",
    "# Importing necessary classes from the user's code\n",
    "# The user's code will be assumed to be contained in a separate file named 'game_framework.py' for the sake of this example\n",
    "\n",
    "# Helper function for creating test StateBlocks\n",
    "def create_test_state_block(name, hp, size, position):\n",
    "    return StateBlock(\n",
    "        id=str(uuid.uuid4()),\n",
    "        owner_id=\"test_owner\",\n",
    "        name=name,\n",
    "        reach=1,\n",
    "        hitpoints=hp,\n",
    "        size=size,\n",
    "        blocks_move=False,\n",
    "        blocks_los=False,\n",
    "        can_store=True,\n",
    "        can_be_stored=False,\n",
    "        can_act=True,\n",
    "        can_move=True,\n",
    "        can_be_moved=False,\n",
    "        position=position\n",
    "    )\n",
    "\n",
    "# Helper function to print the state of a StateBlock\n",
    "def print_state_block(state_block):\n",
    "    print(f\"StateBlock: {state_block.name}\")\n",
    "    print(f\"  - HP: {state_block.hitpoints}\")\n",
    "    print(f\"  - Position: {state_block.position}\")\n",
    "    print(f\"  - Size: {state_block.size}\\n\")\n",
    "\n",
    "test_block = create_test_state_block(\"test\", 10, \"large\", (0, 0))\n",
    "print_state_block(test_block)"
   ]
  },
  {
   "cell_type": "code",
   "execution_count": 3,
   "metadata": {},
   "outputs": [
    {
     "name": "stdout",
     "output_type": "stream",
     "text": [
      "StateBlock: Test Block\n",
      "  - HP: 100\n",
      "  - Position: (0, 0, 0)\n",
      "  - Size: medium\n",
      "\n",
      "StateBlock: Test Block\n",
      "  - HP: 90\n",
      "  - Position: (0, 0, 0)\n",
      "  - Size: medium\n",
      "\n"
     ]
    }
   ],
   "source": [
    "# Step 2: Basic Affordance Creation\n",
    "# Creating a simple affordance using basic statements\n",
    "def test_basic_affordance():\n",
    "    # Create a test state block\n",
    "    test_block = create_test_state_block(\"Test Block\", 100, \"medium\", (0, 0, 0))\n",
    "\n",
    "    # Define a simple statement (e.g., hitpoints must be greater than 50)\n",
    "    statement = bigger_than(50, \"hitpoints\")\n",
    "    # Define a simple transformer (e.g., reduce hitpoints by 10)\n",
    "    transformer = Transformer(\"Reduce HP\", lambda block: setattr(block, \"hitpoints\", block.hitpoints - 10))\n",
    "\n",
    "    # Create an affordance using the statement and transformer\n",
    "    affordance = Affordance(\"Test Affordance\", [(statement, 'source')], [(transformer, 'source')])\n",
    "    print_state_block(test_block)\n",
    "    # Applying the affordance to the test block\n",
    "    affordance(test_block)\n",
    "    print_state_block(test_block)\n",
    "\n",
    "test_basic_affordance()"
   ]
  },
  {
   "cell_type": "code",
   "execution_count": 4,
   "metadata": {},
   "outputs": [
    {
     "name": "stdout",
     "output_type": "stream",
     "text": [
      "StateBlock: Composite Block\n",
      "  - HP: 80\n",
      "  - Position: (1, 1, 1)\n",
      "  - Size: large\n",
      "\n",
      "StateBlock: Composite Block\n",
      "  - HP: 100\n",
      "  - Position: (1, 1, 1)\n",
      "  - Size: large\n",
      "\n"
     ]
    }
   ],
   "source": [
    "# Step 3: Composite Statements in Affordances\n",
    "# Incorporating composite statements into affordances\n",
    "def test_composite_affordance():\n",
    "    # Create a test state block\n",
    "    test_block = create_test_state_block(\"Composite Block\", 80, \"large\", (1, 1, 1))\n",
    "\n",
    "    # Define composite statements\n",
    "    statement1 = bigger_than(50, \"hitpoints\")\n",
    "    statement2 = equals_to(\"small\", \"size\")\n",
    "    composite_statement = CompositeStatement([(statement1, 'AND'), (statement2, 'AND NOT')])\n",
    "\n",
    "    # Define a transformer (e.g., increase hitpoints by 20)\n",
    "    transformer = Transformer(\"Increase HP\", lambda block: setattr(block, \"hitpoints\", block.hitpoints + 20))\n",
    "\n",
    "    # Create an affordance with the composite statement\n",
    "    affordance = Affordance(\"Composite Affordance\", [(composite_statement, 'source')], [(transformer, 'source')])\n",
    "    print_state_block(test_block)\n",
    "    # Applying the affordance to the test block\n",
    "    affordance(test_block)\n",
    "    print_state_block(test_block)\n",
    "\n",
    "test_composite_affordance()"
   ]
  },
  {
   "cell_type": "code",
   "execution_count": 5,
   "metadata": {},
   "outputs": [
    {
     "name": "stdout",
     "output_type": "stream",
     "text": [
      "StateBlock: Source Block\n",
      "  - HP: 60\n",
      "  - Position: (2, 2, 2)\n",
      "  - Size: medium\n",
      "\n",
      "StateBlock: Target Block\n",
      "  - HP: 40\n",
      "  - Position: (3, 3, 3)\n",
      "  - Size: small\n",
      "\n",
      "StateBlock: Source Block\n",
      "  - HP: 40\n",
      "  - Position: (2, 2, 2)\n",
      "  - Size: medium\n",
      "\n",
      "StateBlock: Target Block\n",
      "  - HP: 60\n",
      "  - Position: (3, 3, 3)\n",
      "  - Size: small\n",
      "\n"
     ]
    }
   ],
   "source": [
    "# Step 4: Relational Statements in Affordances\n",
    "# Using relational statements to define interactions between different entities\n",
    "def test_relational_affordance():\n",
    "    # Create two test state blocks\n",
    "    source_block = create_test_state_block(\"Source Block\", 60, \"medium\", (2, 2, 2))\n",
    "    target_block = create_test_state_block(\"Target Block\", 40, \"small\", (3, 3, 3))\n",
    "\n",
    "    # Define a relational statement (e.g., source's HP must be greater than target's)\n",
    "    relational_statement = RelationalStatement(\"HP Comparison\", \"Source HP greater than Target HP\", \n",
    "                                                lambda source, target: source.hitpoints > target.hitpoints)\n",
    "\n",
    "    # Define a relational transformer (e.g., Swaps the HP of the source and target)\n",
    "    def swap_hp(source: StateBlock, target: StateBlock):\n",
    "        source_hp = source.hitpoints\n",
    "        source.hitpoints = target.hitpoints\n",
    "        target.hitpoints = source_hp\n",
    "\n",
    "    relational_transformer = RelationalTransformer(\"Swap HP\", lambda source, target: (swap_hp(source, target)))\n",
    "\n",
    "\n",
    "    # Create an affordance with the relational statement\n",
    "    affordance = Affordance(\"Relational Affordance\", [(relational_statement, 'source')], [(relational_transformer, 'source')])\n",
    "    print_state_block(source_block)\n",
    "    print_state_block(target_block)\n",
    "    # Applying the affordance to the test blocks\n",
    "    affordance(source_block, target_block)\n",
    "    print_state_block(source_block)\n",
    "    print_state_block(target_block)\n",
    "\n",
    "test_relational_affordance()\n"
   ]
  },
  {
   "cell_type": "code",
   "execution_count": 8,
   "metadata": {},
   "outputs": [
    {
     "name": "stdout",
     "output_type": "stream",
     "text": [
      "StateBlock: Block A\n",
      "  - HP: 100\n",
      "  - Position: (0, 0, 0)\n",
      "  - Size: medium\n",
      "\n",
      "StateBlock: Block B\n",
      "  - HP: 50\n",
      "  - Position: (1, 1, 1)\n",
      "  - Size: small\n",
      "\n",
      "StateBlock: Block A\n",
      "  - HP: 85\n",
      "  - Position: (0, 0, 0)\n",
      "  - Size: small\n",
      "\n",
      "StateBlock: Block B\n",
      "  - HP: 55\n",
      "  - Position: (1, 1, 1)\n",
      "  - Size: small\n",
      "\n"
     ]
    }
   ],
   "source": [
    "# Step 5: Composite and Relational Transformers\n",
    "# Applying complex transformations to entities based on defined affordances\n",
    "\n",
    "def test_composite_relational_transformers():\n",
    "    # Step 1: Create StateBlocks\n",
    "    block_a = create_test_state_block(\"Block A\", 100, \"medium\", (0, 0, 0))\n",
    "    block_b = create_test_state_block(\"Block B\", 50, \"small\", (1, 1, 1))\n",
    "\n",
    "    # Step 2: Define Simple Transformers\n",
    "    decrease_hp = Transformer(\"Decrease HP\", lambda block: setattr(block, \"hitpoints\", block.hitpoints - 10))\n",
    "    change_size = Transformer(\"Change Size\", lambda block: setattr(block, \"size\", \"small\"))\n",
    "\n",
    "    # Step 3: Create Composite Transformer\n",
    "    composite_transformer = CompositeTransformer([decrease_hp, change_size])\n",
    "\n",
    "    # Step 4: Define Relational Transformer\n",
    "    transfer_hp = RelationalTransformer(\"Transfer HP\", \n",
    "                                        lambda source, target: (setattr(source, \"hitpoints\", source.hitpoints - 5),\n",
    "                                                                setattr(target, \"hitpoints\", target.hitpoints + 5)))\n",
    "\n",
    "    # Step 5: Setup Affordance\n",
    "    hp_above_30 = bigger_than(30, \"hitpoints\")\n",
    "    affordance = Affordance(\"Complex Interaction\", [(hp_above_30, 'source')], [(composite_transformer, 'source'), (transfer_hp, 'source')])\n",
    "    print_state_block(block_a)\n",
    "    print_state_block(block_b)\n",
    "    # Step 6: Apply the Affordance\n",
    "    affordance(block_a, block_b)\n",
    "\n",
    "    # Step 7: Print Results\n",
    "    print_state_block(block_a)\n",
    "    print_state_block(block_b)\n",
    "\n",
    "test_composite_relational_transformers()\n"
   ]
  },
  {
   "cell_type": "code",
   "execution_count": null,
   "metadata": {},
   "outputs": [],
   "source": []
  }
 ],
 "metadata": {
  "kernelspec": {
   "display_name": "Python 3",
   "language": "python",
   "name": "python3"
  },
  "language_info": {
   "codemirror_mode": {
    "name": "ipython",
    "version": 3
   },
   "file_extension": ".py",
   "mimetype": "text/x-python",
   "name": "python",
   "nbconvert_exporter": "python",
   "pygments_lexer": "ipython3",
   "version": "3.10.6"
  }
 },
 "nbformat": 4,
 "nbformat_minor": 2
}
